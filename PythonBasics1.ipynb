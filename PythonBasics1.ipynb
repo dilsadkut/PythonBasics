{
 "cells": [
  {
   "cell_type": "markdown",
   "metadata": {
    "id": "2Q1wEAMJhAcV"
   },
   "source": [
    "### Versiyon Kontrolü\n"
   ]
  },
  {
   "cell_type": "code",
   "execution_count": null,
   "metadata": {
    "id": "pHxZk2qOhAcV"
   },
   "outputs": [],
   "source": [
    "!python --version"
   ]
  },
  {
   "cell_type": "markdown",
   "metadata": {
    "id": "iWHzxrdvXU0-"
   },
   "source": [
    " ### Her yazılım dilinin ilk adımı \"Hello World!\"\n",
    " ![Image of Yaktocat](https://yavuzyalcintas.com/wp-content/uploads/2020/08/hello-world.png)"
   ]
  },
  {
   "cell_type": "code",
   "execution_count": null,
   "metadata": {
    "id": "NGB3j3LcdcbR",
    "scrolled": true
   },
   "outputs": [],
   "source": [
    "print(\"Hello World!\")"
   ]
  },
  {
   "cell_type": "code",
   "execution_count": null,
   "metadata": {
    "id": "luSgefSQgFrV"
   },
   "outputs": [],
   "source": [
    "print('Hello World')"
   ]
  },
  {
   "cell_type": "code",
   "execution_count": null,
   "metadata": {
    "id": "g_52IrQIgcPv"
   },
   "outputs": [],
   "source": [
    "print(\"Hello1\")\n",
    "print(\"Hello2\")\n",
    "print(\"Hello3\")\n",
    "print(\"Welcome to PG1926\")"
   ]
  },
  {
   "cell_type": "code",
   "execution_count": null,
   "metadata": {
    "id": "2ualX2qpg3Hy"
   },
   "outputs": [],
   "source": [
    "print \"Hello World\""
   ]
  },
  {
   "cell_type": "code",
   "execution_count": null,
   "metadata": {
    "id": "0BOHOWOdhcgp"
   },
   "outputs": [],
   "source": [
    "print(Hello)"
   ]
  },
  {
   "cell_type": "code",
   "execution_count": null,
   "metadata": {
    "id": "G69sCzFUhi5j"
   },
   "outputs": [],
   "source": [
    "print(\"Hello')"
   ]
  },
  {
   "cell_type": "markdown",
   "metadata": {
    "id": "aWYakJiQhAcV"
   },
   "source": [
    "### Yorum Satırı\n"
   ]
  },
  {
   "cell_type": "code",
   "execution_count": null,
   "metadata": {
    "id": "JsFmw9IuFSKR"
   },
   "outputs": [],
   "source": [
    "#taking some notes \n",
    "#taking some notes\n",
    "#take a note"
   ]
  },
  {
   "cell_type": "code",
   "execution_count": null,
   "metadata": {
    "id": "llzXRK61FadN"
   },
   "outputs": [],
   "source": [
    "\n",
    "'''Michael Irwin Jordan is an American scientist, professor at the University of California, \n",
    "Berkeley and researcher in machine learning, statistics, and artificial intelligence.\n",
    "He is one of the leading figures in machine learning, \n",
    "and in 2016 Science reported him as the world's most influential computer scientist.\n",
    "'''.replace(\"\\n\",\" \")\n"
   ]
  },
  {
   "cell_type": "code",
   "execution_count": null,
   "metadata": {
    "id": "gs7XpZNIhAcW"
   },
   "outputs": [],
   "source": [
    "\n",
    "\"\"\"\n",
    "write something\n",
    "\"\"\"\n"
   ]
  },
  {
   "cell_type": "markdown",
   "metadata": {
    "id": "TwLBhEjAhAcW"
   },
   "source": [
    "### Değişken Tanımlama\n",
    "\n",
    "* variable = value\n",
    "\n",
    "* n = 5"
   ]
  },
  {
   "cell_type": "code",
   "execution_count": null,
   "metadata": {
    "id": "Sb178VuUloLP",
    "scrolled": true
   },
   "outputs": [],
   "source": [
    "n = 1 \n",
    "print(n)"
   ]
  },
  {
   "cell_type": "code",
   "execution_count": null,
   "metadata": {
    "id": "18yuPbb5m9GG"
   },
   "outputs": [],
   "source": [
    "p = n\n",
    "print(p)"
   ]
  },
  {
   "cell_type": "markdown",
   "metadata": {
    "id": "WG8myBdPhAcX"
   },
   "source": [
    "### Veri Tipleri\n",
    "* Integer (Tam sayı)\n",
    "* Float (Kayar noktalı sayı)\n",
    "* String (Karakter dizisi)\n",
    "* Boolean\n",
    "* Complex (Karmaşık sayılar)\n",
    "* List (Liste)\n",
    "* Dictionary (Sözlük)\n",
    "* Tuple (Demet)\n",
    "* Set (Küme)\n"
   ]
  },
  {
   "cell_type": "code",
   "execution_count": null,
   "metadata": {
    "id": "GO6WONnhnVjB"
   },
   "outputs": [],
   "source": [
    "#String\n",
    "hello = \"World\""
   ]
  },
  {
   "cell_type": "code",
   "execution_count": null,
   "metadata": {
    "id": "2YZLBCcinyfx"
   },
   "outputs": [],
   "source": [
    "print(hello) #print variable\n",
    "print(\"World\") #print value\n",
    "print(n)"
   ]
  },
  {
   "cell_type": "code",
   "execution_count": null,
   "metadata": {
    "id": "SUUJq6chhAcY"
   },
   "outputs": [],
   "source": [
    "#type() \n",
    "type(hello)"
   ]
  },
  {
   "cell_type": "code",
   "execution_count": null,
   "metadata": {
    "id": "letAfxW_oHH-"
   },
   "outputs": [],
   "source": [
    "print(type(hello)) #print data type"
   ]
  },
  {
   "cell_type": "code",
   "execution_count": null,
   "metadata": {
    "id": "o6zYYebwhAcY"
   },
   "outputs": [],
   "source": [
    "#Integer\n",
    "int_value = 5\n",
    "int_value"
   ]
  },
  {
   "cell_type": "code",
   "execution_count": null,
   "metadata": {
    "id": "lQcQh8oMomlP"
   },
   "outputs": [],
   "source": [
    "print(type(int_value))"
   ]
  },
  {
   "cell_type": "code",
   "execution_count": null,
   "metadata": {
    "id": "FMM4y1JXMjsL"
   },
   "outputs": [],
   "source": [
    "t = 3.19\n",
    "print(type(t))"
   ]
  },
  {
   "cell_type": "code",
   "execution_count": null,
   "metadata": {
    "id": "hfJLQQPihAcZ"
   },
   "outputs": [],
   "source": [
    "type('x')"
   ]
  },
  {
   "cell_type": "code",
   "execution_count": null,
   "metadata": {
    "id": "7DtsrxEHyHUH"
   },
   "outputs": [],
   "source": [
    "#Boolean\n",
    "t, f = True, False\n",
    "print(type(t))\n",
    "print(t)\n",
    "print(f)"
   ]
  },
  {
   "cell_type": "code",
   "execution_count": null,
   "metadata": {
    "id": "VOFssaJZhAcZ"
   },
   "outputs": [],
   "source": [
    "#swapping\n",
    "data1 = 7 \n",
    "data2 = 12\n",
    "data3 = 23\n",
    "data4 = 33\n",
    "\n",
    "data1, data2, data3 , data4 = data2 , data1, data4, data3\n",
    "print(data1, data2, data3, data4)"
   ]
  },
  {
   "cell_type": "code",
   "execution_count": null,
   "metadata": {
    "id": "KDP17P0zhAcZ"
   },
   "outputs": [],
   "source": [
    "print(\"data1:\", data1, \"data:\", data2)"
   ]
  },
  {
   "cell_type": "code",
   "execution_count": null,
   "metadata": {
    "id": "vRQDCHxLhAca"
   },
   "outputs": [],
   "source": [
    "metin = \"\"\"Lorem ipsum dolor sit amet, consectetur adipiscing elit, sed do eiusmod tempor incididunt ut labore et dolore magna aliqua. Ut enim ad minim veniam, quis nostrud exercitation ullamco laboris nisi ut aliquip ex ea commodo consequat. Duis aute irure dolor in reprehenderit in voluptate velit esse cillum dolore eu fugiat nulla pariatur. Excepteur sint occaecat cupidatat non proident, sunt in culpa qui officia deserunt mollit anim id est laborum.\"\n",
    "\n",
    "Section 1.10.32 of \"de Finibus Bonorum et Malorum\", written by Cicero in 45 BC\n",
    "\"Sed ut perspiciatis unde omnis iste natus error sit voluptatem accusantium doloremque laudantium, totam rem aperiam, eaque ipsa quae ab illo inventore veritatis et quasi architecto beatae vitae dicta sunt explicabo. Nemo enim ipsam voluptatem quia voluptas sit aspernatur aut odit aut fugit, sed quia consequuntur magni dolores eos qui ratione voluptatem sequi nesciunt. Neque porro quisquam est, qui dolorem ipsum quia dolor sit amet, consectetur, adipisci velit, sed quia non numquam eius modi tempora incidunt ut labore et dolore magnam aliquam quaerat voluptatem. Ut enim ad minima veniam, quis nostrum exercitationem ullam corporis suscipit laboriosam, nisi ut aliquid ex ea commodi consequatur? Quis autem vel eum iure reprehenderit qui in ea voluptate velit esse quam nihil molestiae consequatur, vel illum qui dolorem eum fugiat quo voluptas nulla pariatur?\"\n",
    "\n",
    "1914 translation by H. Rackham\n",
    "\"But I must explain to you how all this mistaken idea of denouncing pleasure and praising pain was born and I will give you a complete account of the system, and expound the actual teachings of the great explorer of the truth, the master-builder of human happiness. No one rejects, dislikes, or avoids pleasure itself, because it is pleasure, but because those who do not know how to pursue pleasure rationally encounter consequences that are extremely painful. Nor again is there anyone who loves or pursues or desires to obtain pain of itself, because it is pain, but because occasionally circumstances occur in which toil and pain can procure him some great pleasure. To take a trivial example, which of us ever undertakes laborious physical exercise, except to obtain some advantage from it? But who has any right to find fault with a man who chooses to enjoy a pleasure that has no annoying consequences, or one who avoids a pain that produces no resultant pleasure?\"\"\""
   ]
  },
  {
   "cell_type": "code",
   "execution_count": null,
   "metadata": {
    "id": "h1UFC3ARhAca"
   },
   "outputs": [],
   "source": [
    "len(metin)"
   ]
  },
  {
   "cell_type": "code",
   "execution_count": null,
   "metadata": {
    "id": "UleuXLMVwCgG"
   },
   "outputs": [],
   "source": [
    "print(len(metin)) #print data length "
   ]
  },
  {
   "cell_type": "code",
   "execution_count": null,
   "metadata": {
    "id": "8JIXMfUVhAcb"
   },
   "outputs": [],
   "source": [
    "len(5)"
   ]
  },
  {
   "cell_type": "code",
   "execution_count": null,
   "metadata": {
    "id": "xD-DL1OUhAcb"
   },
   "outputs": [],
   "source": [
    "len(15.6)"
   ]
  },
  {
   "cell_type": "code",
   "execution_count": null,
   "metadata": {
    "id": "EjtEb3GDhAcc"
   },
   "outputs": [],
   "source": [
    "a = 15\n",
    "b = 23\n",
    "\n",
    "a, b = b, a\n",
    "print(a)\n",
    "print(b)"
   ]
  },
  {
   "cell_type": "code",
   "execution_count": null,
   "metadata": {
    "id": "cD0F7XrOhAcc"
   },
   "outputs": [],
   "source": [
    "data12 = 5\n",
    "data13 = 90\n",
    "print(\"My value:{} and Your value:{}\".format(data12, data13))"
   ]
  },
  {
   "cell_type": "markdown",
   "metadata": {
    "id": "rOEAqInQGFVu"
   },
   "source": [
    "### Aritmetik Operatörler"
   ]
  },
  {
   "cell_type": "code",
   "execution_count": null,
   "metadata": {
    "id": "OQzlT59exPuY"
   },
   "outputs": [],
   "source": [
    "#Üslü ifadeler\n",
    "5**2"
   ]
  },
  {
   "cell_type": "code",
   "execution_count": null,
   "metadata": {
    "id": "OyW_9a9fhAcf"
   },
   "outputs": [],
   "source": [
    "5**3"
   ]
  },
  {
   "cell_type": "code",
   "execution_count": null,
   "metadata": {
    "id": "IT5uTIgBGRIz"
   },
   "outputs": [],
   "source": [
    "35+67"
   ]
  },
  {
   "cell_type": "code",
   "execution_count": null,
   "metadata": {
    "id": "UIwXGkZqGVId"
   },
   "outputs": [],
   "source": [
    "\"35\"+\"67\""
   ]
  },
  {
   "cell_type": "code",
   "execution_count": null,
   "metadata": {
    "id": "y0RFHDpZhAcf"
   },
   "outputs": [],
   "source": [
    "\"PG\" + \"1926\""
   ]
  },
  {
   "cell_type": "code",
   "execution_count": null,
   "metadata": {
    "id": "Qx0vjBUmGZNk"
   },
   "outputs": [],
   "source": [
    "\"35\" + 67 "
   ]
  },
  {
   "cell_type": "code",
   "execution_count": null,
   "metadata": {
    "id": "_EzMFsTMGbw5"
   },
   "outputs": [],
   "source": [
    "\"35\"*3 "
   ]
  },
  {
   "cell_type": "code",
   "execution_count": null,
   "metadata": {
    "id": "X_FiEHA9GlUH"
   },
   "outputs": [],
   "source": [
    "\"hello\"*4"
   ]
  },
  {
   "cell_type": "code",
   "execution_count": null,
   "metadata": {
    "id": "zVujz21ZhAcg"
   },
   "outputs": [],
   "source": [
    "\"hello\" \"world\""
   ]
  },
  {
   "cell_type": "code",
   "execution_count": null,
   "metadata": {
    "id": "qCIBU4v8HH3Y"
   },
   "outputs": [],
   "source": [
    "x = 10\n",
    "\n",
    "print(x+2)\n",
    "print(x-2)\n",
    "print(x*2)\n",
    "print(x**2)\n",
    "print(x**4)\n",
    "print(x/2)\n",
    "print(x//2) \n",
    "print(x%2) "
   ]
  },
  {
   "cell_type": "code",
   "execution_count": null,
   "metadata": {
    "id": "imzLVXBYLNhW"
   },
   "outputs": [],
   "source": [
    "y = 13\n",
    "print(y/2)\n",
    "print(y//2)\n",
    "print(y % 2)"
   ]
  },
  {
   "cell_type": "code",
   "execution_count": null,
   "metadata": {
    "id": "nr-s8OwrhAch"
   },
   "outputs": [],
   "source": [
    "z= 5\n",
    "z +=2 #z = z + 2\n",
    "z"
   ]
  },
  {
   "cell_type": "code",
   "execution_count": null,
   "metadata": {
    "id": "2HOE_xOGL3WQ"
   },
   "outputs": [],
   "source": [
    "z*=2      # z = z * 2\n",
    "z"
   ]
  },
  {
   "cell_type": "markdown",
   "metadata": {
    "id": "IdTKuqyFmCN9"
   },
   "source": [
    "### Tür Dönüşümleri\n",
    "* str() \n",
    "* float() \n",
    "* int()"
   ]
  },
  {
   "cell_type": "code",
   "execution_count": null,
   "metadata": {
    "id": "sYFsQbIamCN-"
   },
   "outputs": [],
   "source": [
    "str(\"Python\")"
   ]
  },
  {
   "cell_type": "code",
   "execution_count": null,
   "metadata": {
    "id": "zBJuLanemCN-"
   },
   "outputs": [],
   "source": [
    "float(5)"
   ]
  },
  {
   "cell_type": "code",
   "execution_count": null,
   "metadata": {
    "id": "Exznao8bmCN-"
   },
   "outputs": [],
   "source": [
    "type(5.0)"
   ]
  },
  {
   "cell_type": "code",
   "execution_count": null,
   "metadata": {
    "id": "XVv7MCTVmCN-"
   },
   "outputs": [],
   "source": [
    "int(float(5.7))"
   ]
  },
  {
   "cell_type": "code",
   "execution_count": null,
   "metadata": {
    "id": "AZm-mbcmmCN_"
   },
   "outputs": [],
   "source": [
    "float(\"6.2\")"
   ]
  },
  {
   "cell_type": "code",
   "execution_count": null,
   "metadata": {
    "id": "yZRZLgscmCN_"
   },
   "outputs": [],
   "source": [
    "float(\"Hello\")"
   ]
  },
  {
   "cell_type": "code",
   "execution_count": null,
   "metadata": {
    "id": "QNftrnEfmCN_"
   },
   "outputs": [],
   "source": [
    "int(5.5)"
   ]
  },
  {
   "cell_type": "markdown",
   "metadata": {
    "id": "0txXkvbamCN_"
   },
   "source": [
    "### İndexleme ve Dilimleme"
   ]
  },
  {
   "cell_type": "code",
   "execution_count": null,
   "metadata": {
    "id": "vZjNAoLVR5U0"
   },
   "outputs": [],
   "source": [
    "hello = \"Hello\"\n",
    "print(hello)\n",
    "print(hello[0])\n",
    "print(hello[1])\n",
    "print(hello[2])\n",
    "print(hello[3])\n",
    "print(hello[4])"
   ]
  },
  {
   "cell_type": "code",
   "execution_count": null,
   "metadata": {
    "id": "HQoj_jsUmCOA"
   },
   "outputs": [],
   "source": [
    "hello2 = \" Hello\"\n",
    "hello2[0]"
   ]
  },
  {
   "cell_type": "code",
   "execution_count": null,
   "metadata": {
    "id": "3CUMwNM_mCOA"
   },
   "outputs": [],
   "source": [
    "print(hello[5])"
   ]
  },
  {
   "cell_type": "code",
   "execution_count": null,
   "metadata": {
    "id": "0zG_UBbW_SFu"
   },
   "outputs": [],
   "source": [
    "job = \" Engineering\"\n",
    "\n",
    "print(job[-5])"
   ]
  },
  {
   "cell_type": "code",
   "execution_count": null,
   "metadata": {
    "id": "Scvqz7-FmCOB"
   },
   "outputs": [],
   "source": [
    "print(hello)"
   ]
  },
  {
   "cell_type": "code",
   "execution_count": null,
   "metadata": {
    "id": "uTZeixoumCOB"
   },
   "outputs": [],
   "source": [
    "hello"
   ]
  },
  {
   "cell_type": "code",
   "execution_count": null,
   "metadata": {
    "id": "1gW2be5tWek7"
   },
   "outputs": [],
   "source": [
    "hello[2:4]  # [x:y] --> x elemanını dahil eder fakat y elemanını dahil etmez."
   ]
  },
  {
   "cell_type": "code",
   "execution_count": null,
   "metadata": {
    "id": "4d12Mq3n03zL"
   },
   "outputs": [],
   "source": [
    "hello[::-1] "
   ]
  },
  {
   "cell_type": "code",
   "execution_count": null,
   "metadata": {
    "id": "XxKt6pqvmCOC"
   },
   "outputs": [],
   "source": [
    "world"
   ]
  },
  {
   "cell_type": "code",
   "execution_count": null,
   "metadata": {
    "id": "3hrKJQS2a6A5"
   },
   "outputs": [],
   "source": [
    "world[2:4:1]   # [start:end:step]"
   ]
  },
  {
   "cell_type": "code",
   "execution_count": null,
   "metadata": {
    "id": "1Kgd14H_bNAj"
   },
   "outputs": [],
   "source": [
    "city = \"istanbul\"\n",
    "city[0:6:2]"
   ]
  },
  {
   "cell_type": "code",
   "execution_count": null,
   "metadata": {
    "id": "az6ygCGue2sY"
   },
   "outputs": [],
   "source": [
    "word = 'machine learning'\n",
    "print(word.capitalize())"
   ]
  },
  {
   "cell_type": "code",
   "execution_count": null,
   "metadata": {
    "id": "3nF1ST9UfCGu"
   },
   "outputs": [],
   "source": [
    "print(word.upper())"
   ]
  },
  {
   "cell_type": "code",
   "execution_count": null,
   "metadata": {
    "id": "9r6KvgMYfiVQ"
   },
   "outputs": [],
   "source": [
    "print(word.replace('machine','artificial'))"
   ]
  },
  {
   "cell_type": "code",
   "execution_count": null,
   "metadata": {
    "id": "TjnWT_9Zfs2r"
   },
   "outputs": [],
   "source": [
    "word"
   ]
  },
  {
   "cell_type": "code",
   "execution_count": null,
   "metadata": {
    "id": "H1WYJsidfw-G"
   },
   "outputs": [],
   "source": [
    "word2 = \"          artificial general      intelligence\"\n",
    "print(word2.strip())"
   ]
  },
  {
   "cell_type": "code",
   "execution_count": null,
   "metadata": {
    "id": "Voc6zKLzhlmv"
   },
   "outputs": [],
   "source": [
    "y = input(\"Please enter a city name: \")  #input methodu değeri her zaman string ifadesi olarak tutar \n",
    "print(y)"
   ]
  },
  {
   "cell_type": "code",
   "execution_count": null,
   "metadata": {
    "id": "Wey_2y-3mCOG"
   },
   "outputs": [],
   "source": [
    "type(y)"
   ]
  },
  {
   "cell_type": "code",
   "execution_count": null,
   "metadata": {
    "id": "3zyJI9oljhQi"
   },
   "outputs": [],
   "source": [
    "x = int(input(\"Please enter an integer: \"))\n",
    "print(x)"
   ]
  },
  {
   "cell_type": "code",
   "execution_count": null,
   "metadata": {
    "id": "570NLil5mCOH"
   },
   "outputs": [],
   "source": [
    "type(x)"
   ]
  },
  {
   "cell_type": "markdown",
   "metadata": {
    "id": "Uqstf6kg1CCT"
   },
   "source": [
    "### If/Else Durumları\n",
    "\n",
    "if \"condition\":\n",
    "\n",
    "\n",
    "> \"doing sth\"\n",
    "\n",
    "print()\n"
   ]
  },
  {
   "cell_type": "code",
   "execution_count": null,
   "metadata": {
    "id": "8E_cCL6adJSR"
   },
   "outputs": [],
   "source": [
    "ort = input('Ortalamanızı Girin : ')\n",
    "if(int(ort)>=50):\n",
    "      print(\"Geçtiniz\")\n",
    "else:\n",
    "      print(\"Kaldınız\")"
   ]
  },
  {
   "cell_type": "code",
   "execution_count": null,
   "metadata": {
    "id": "aQww_2VKeWbd"
   },
   "outputs": [],
   "source": [
    "sayi = input('Sayı : ')\n",
    "if(int(sayi)%2==0):\n",
    "      print(\"Sayı Çift\")\n",
    "else:\n",
    "      print(\"Sayı Tek\")"
   ]
  },
  {
   "cell_type": "code",
   "execution_count": null,
   "metadata": {
    "id": "1gdtAyGZ1MTD"
   },
   "outputs": [],
   "source": [
    "a = int(input(\"Bir sayı giriniz: \"))\n",
    "\n",
    "if a < 100:\n",
    "    print(\"verdiğiniz sayı 100'den küçüktür.\")\n",
    "\n",
    "elif a < 50:\n",
    "    print(\"verdiğiniz sayı 50'den küçüktür.\")\n",
    "\n",
    "elif a == 100:\n",
    "    print(\"verdiğiniz sayı 100'dür.\")\n",
    "\n",
    "elif a > 150:\n",
    "    print(\"verdiğiniz sayı 150'den büyüktür.\")\n",
    "\n",
    "elif a > 100:\n",
    "    print(\"verdiğiniz sayı 100'den büyüktür.\")"
   ]
  },
  {
   "cell_type": "code",
   "execution_count": null,
   "metadata": {
    "id": "3hmeanZ757dR"
   },
   "outputs": [],
   "source": [
    "kullanıcı_adı = input(\"Kullanıcı adınız: \")\n",
    "parola        = input(\"Parolanız       : \")\n",
    "\n",
    "toplam_uzunluk = len(kullanıcı_adı) + len(parola)\n",
    "\n",
    "\n",
    "if toplam_uzunluk > 40:\n",
    "    print(\"Kullanıcı adınız ile parolanızın \",\n",
    "          \"toplam uzunluğu 40 karakteri geçmemeli!\")\n",
    "else:\n",
    "    print(\"Sisteme hoşgeldiniz!\")"
   ]
  },
  {
   "cell_type": "markdown",
   "metadata": {
    "id": "zvyKibr2vVNm"
   },
   "source": [
    "### Liste (list)\n",
    "Python list, yani liste, herhangi bir sayıda diğer objeleri içinde bulunduran bir sandık vazifesi görüyor. Diğer dillerdeki listelerden en önemli farkı ise, bir listede birden fazla tip öğenin yanyana bulunabilmesi. Diğer konteynır tarzı objelerden farkı ise, listeler değişebilir (mutable) olması ve sıralı olması diyebiliriz. Diğer konteynırlar nedir derseniz, kümeler (set) ve sözlükler (dict) bunlara örnek olarak gösterilebilir."
   ]
  },
  {
   "cell_type": "code",
   "execution_count": null,
   "metadata": {
    "id": "njA7EYZGv07w",
    "scrolled": true
   },
   "outputs": [],
   "source": [
    " # creating a list\n",
    "mylist = [3,5,6,7]\n",
    "print(mylist) "
   ]
  },
  {
   "cell_type": "code",
   "execution_count": null,
   "metadata": {
    "id": "MxsQ4t8pmCOI"
   },
   "outputs": [],
   "source": [
    "type(mylist)"
   ]
  },
  {
   "cell_type": "code",
   "execution_count": null,
   "metadata": {
    "id": "hQhGEzmPwgQ2"
   },
   "outputs": [],
   "source": [
    "print(mylist[0])\n",
    "print(mylist[2])\n",
    "print(mylist[-1])\n",
    "print(mylist[-3])"
   ]
  },
  {
   "cell_type": "code",
   "execution_count": null,
   "metadata": {
    "id": "VQ7gQ-2kmCOI"
   },
   "outputs": [],
   "source": [
    "a = 5\n",
    "print(a)"
   ]
  },
  {
   "cell_type": "code",
   "execution_count": null,
   "metadata": {
    "id": "Z0v9ZqhNmCOI"
   },
   "outputs": [],
   "source": [
    "a = 3\n",
    "print(a)"
   ]
  },
  {
   "cell_type": "code",
   "execution_count": null,
   "metadata": {
    "id": "ngPWrPA_w3gG"
   },
   "outputs": [],
   "source": [
    "mylist[2] = \"python\"   # listeler farklı veri tiplerini bir arada bulundurabilir.\n",
    "print(mylist)"
   ]
  },
  {
   "cell_type": "code",
   "execution_count": null,
   "metadata": {
    "id": "hI6Wz-NWxMuG"
   },
   "outputs": [],
   "source": [
    "mylist.append('course')  # append(): listenin sonuna bir eleman ekler.\n",
    "print(mylist)"
   ]
  },
  {
   "cell_type": "code",
   "execution_count": null,
   "metadata": {
    "id": "dqz8xPRgxdHU"
   },
   "outputs": [],
   "source": [
    "mylist = [3,4,5,6,7]\n",
    "mylist.append('course')\n",
    "mylist.append('course')\n",
    "print(mylist)\n",
    "\n",
    "thelast = mylist.pop()  # pop(): listenin sonundaki son elemanı siler.\n",
    "print(thelast)\n",
    "print(mylist)"
   ]
  },
  {
   "cell_type": "code",
   "execution_count": null,
   "metadata": {
    "id": "HpPBYsAzmCOJ"
   },
   "outputs": [],
   "source": [
    "mylist"
   ]
  },
  {
   "cell_type": "code",
   "execution_count": null,
   "metadata": {
    "id": "Dt0ef3SiyJng"
   },
   "outputs": [],
   "source": [
    "mylist.index(\"course\")"
   ]
  },
  {
   "cell_type": "code",
   "execution_count": null,
   "metadata": {
    "id": "r1A4DZ4syQtk"
   },
   "outputs": [],
   "source": [
    "mylist.index(4)"
   ]
  },
  {
   "cell_type": "code",
   "execution_count": null,
   "metadata": {
    "id": "iFn2-UYKyWCZ"
   },
   "outputs": [],
   "source": [
    "mylist.count(\"course\")"
   ]
  },
  {
   "cell_type": "code",
   "execution_count": null,
   "metadata": {
    "id": "PXBtBlAXmCOK"
   },
   "outputs": [],
   "source": [
    "list2 = [\"Python\",\"Java\",\"R\",\"JavaScript\",\"Ruby\",\"Python\",\"Python\"]\n",
    "list2.count(\"Python\")\n"
   ]
  },
  {
   "cell_type": "code",
   "execution_count": null,
   "metadata": {
    "id": "58nCPJ27mCOK"
   },
   "outputs": [],
   "source": [
    "mylist"
   ]
  },
  {
   "cell_type": "code",
   "execution_count": null,
   "metadata": {
    "id": "46qXsaPbyowR"
   },
   "outputs": [],
   "source": [
    "mylist.remove(\"course\")\n",
    "print(mylist)"
   ]
  },
  {
   "cell_type": "code",
   "execution_count": null,
   "metadata": {
    "id": "UlKtby-1zYVT"
   },
   "outputs": [],
   "source": [
    "mylist.sort()\n",
    "mylist"
   ]
  },
  {
   "cell_type": "code",
   "execution_count": null,
   "metadata": {
    "id": "Kdqlr7yQmCOL"
   },
   "outputs": [],
   "source": [
    "list3 = [100,23,87,13,1000]"
   ]
  },
  {
   "cell_type": "code",
   "execution_count": null,
   "metadata": {
    "id": "ZECprhx7mCOL"
   },
   "outputs": [],
   "source": [
    "list3.sort()\n",
    "list3"
   ]
  },
  {
   "cell_type": "code",
   "execution_count": null,
   "metadata": {
    "id": "cNauyviRmCOL"
   },
   "outputs": [],
   "source": [
    "list4 = [41,23,78,99,37,2.9,2.8]\n",
    "list4.sort()\n",
    "list4"
   ]
  },
  {
   "cell_type": "code",
   "execution_count": null,
   "metadata": {
    "id": "6E5ZHeormCOM"
   },
   "outputs": [],
   "source": [
    "list4.remove()\n"
   ]
  },
  {
   "cell_type": "code",
   "execution_count": null,
   "metadata": {
    "id": "Ks3NHMA_mCOM"
   },
   "outputs": [],
   "source": [
    "list5 = [41,23,78,99,37,'python']\n",
    "list5.sort()\n",
    "list5"
   ]
  },
  {
   "cell_type": "code",
   "execution_count": null,
   "metadata": {
    "id": "5lcp5UifmCOM"
   },
   "outputs": [],
   "source": [
    "mylist"
   ]
  },
  {
   "cell_type": "code",
   "execution_count": null,
   "metadata": {
    "id": "E26Vtqlyzfal"
   },
   "outputs": [],
   "source": [
    "mylist.remove(\"course\")\n",
    "mylist.remove(\"python\")\n",
    "print(mylist)"
   ]
  },
  {
   "cell_type": "code",
   "execution_count": null,
   "metadata": {
    "id": "aSsRxEvPowM-"
   },
   "outputs": [],
   "source": [
    "mylist.remove(\"course\")\n",
    "print(mylist)"
   ]
  },
  {
   "cell_type": "code",
   "execution_count": null,
   "metadata": {
    "id": "2pnKy1t7znEH"
   },
   "outputs": [],
   "source": [
    "mylist.sort()\n",
    "mylist"
   ]
  },
  {
   "cell_type": "code",
   "execution_count": null,
   "metadata": {
    "id": "06kYH0sqmCON"
   },
   "outputs": [],
   "source": [
    "mylist = [3,4,5,6,7]"
   ]
  },
  {
   "cell_type": "code",
   "execution_count": null,
   "metadata": {
    "id": "sjC4_sbzzt0n"
   },
   "outputs": [],
   "source": [
    "mylist.reverse()\n",
    "mylist"
   ]
  },
  {
   "cell_type": "code",
   "execution_count": null,
   "metadata": {
    "id": "SDVAJpN3z4md"
   },
   "outputs": [],
   "source": [
    "mylist2 = [\"python\", \"course\", \"hello\"]\n",
    "mylist2.sort()\n",
    "mylist2"
   ]
  },
  {
   "cell_type": "code",
   "execution_count": null,
   "metadata": {
    "id": "HyQrtFNwmCON"
   },
   "outputs": [],
   "source": [
    "mylist"
   ]
  },
  {
   "cell_type": "code",
   "execution_count": null,
   "metadata": {
    "id": "t8fn5qremCOO"
   },
   "outputs": [],
   "source": [
    "list_in_list = [\"python\",\"Java\",3.2, 4, 11, [5,65,7,8,9]]\n",
    "print(list_in_list[5])"
   ]
  },
  {
   "cell_type": "code",
   "execution_count": null,
   "metadata": {
    "id": "sENNgOgYmCOO"
   },
   "outputs": [],
   "source": [
    "list_in_list[-1]"
   ]
  },
  {
   "cell_type": "code",
   "execution_count": null,
   "metadata": {
    "id": "32M3RVubmCOO"
   },
   "outputs": [],
   "source": [
    "mylist = [2, 3, 4, 5, 6, 'python', 'flutter', 'Android', 'JavaScript', 'dart', 3.2, 5.0]"
   ]
  },
  {
   "cell_type": "code",
   "execution_count": null,
   "metadata": {
    "id": "TrlAuQrZmqPe"
   },
   "outputs": [],
   "source": [
    "numbers2 = list(range(2,15,3)) #range(start, stop, step)\n",
    "print(numbers2)\n",
    "numbers2.reverse()\n",
    "print(numbers2)"
   ]
  },
  {
   "cell_type": "markdown",
   "metadata": {
    "id": "IdVXxCBHJ07g"
   },
   "source": [
    "### Sözlük (dictionary)\n",
    "Sözlükler de Tuple ve List veri türleri gibi farklı veri türleri bulunur fakat sözlükler biraz  farklıdır. Sözlükler süslü parantezler ile ifade edilir ve  iki kısımdan oluşur; keys(anahtar) ve value(değer),  value kısmı bütün veri türünü içerebilir fakat keys kısmı sadece string ve int tipinde olabilir. Sözlüklerde değiştirilebilir veri türü olup ekleme,çıkarma vb. işlemler yapılabilir.\n",
    "\n",
    "\n"
   ]
  },
  {
   "cell_type": "code",
   "execution_count": null,
   "metadata": {
    "id": "-fo5_OkfcFz4"
   },
   "outputs": [],
   "source": [
    "d = {}\n",
    "\n",
    "print(d)\n",
    "type(d)"
   ]
  },
  {
   "cell_type": "code",
   "execution_count": null,
   "metadata": {
    "id": "n5qcMd-GLsKa"
   },
   "outputs": [],
   "source": [
    "d = {\"python\":1, \"course\":2}\n",
    "print(d)"
   ]
  },
  {
   "cell_type": "code",
   "execution_count": null,
   "metadata": {
    "id": "EX9oMWnHL7fq"
   },
   "outputs": [],
   "source": [
    "d2 = {\"machine\":\"learning\", \"artificial\":\"intelligence\" }\n",
    "d2"
   ]
  },
  {
   "cell_type": "code",
   "execution_count": null,
   "metadata": {
    "id": "eckt9hWHMKyB"
   },
   "outputs": [],
   "source": [
    "d2[\"artificial\"]"
   ]
  },
  {
   "cell_type": "code",
   "execution_count": null,
   "metadata": {
    "id": "P07ODlUDcFz5"
   },
   "outputs": [],
   "source": [
    "d2[\"java\"] = \"programming\"\n",
    "d2"
   ]
  },
  {
   "cell_type": "code",
   "execution_count": null,
   "metadata": {
    "id": "aGhqBey1cFz5"
   },
   "outputs": [],
   "source": [
    "d2[\"ruby\"] = \"programming\"\n",
    "d2"
   ]
  },
  {
   "cell_type": "code",
   "execution_count": null,
   "metadata": {
    "id": "iwJO06pLcFz6"
   },
   "outputs": [],
   "source": [
    "d2[\"ruby\"] = \"language\"\n",
    "d2"
   ]
  },
  {
   "cell_type": "code",
   "execution_count": null,
   "metadata": {
    "id": "V4-QRNaWcFz6"
   },
   "outputs": [],
   "source": [
    "d"
   ]
  },
  {
   "cell_type": "code",
   "execution_count": null,
   "metadata": {
    "id": "EtB2gyEmMWjy"
   },
   "outputs": [],
   "source": [
    "d[\"course\"]"
   ]
  },
  {
   "cell_type": "code",
   "execution_count": null,
   "metadata": {
    "id": "t2flZAV2NIIq"
   },
   "outputs": [],
   "source": [
    "d2[\"deep\"] = \"learning\"\n",
    "d2"
   ]
  },
  {
   "cell_type": "code",
   "execution_count": null,
   "metadata": {
    "id": "ntLDke2enyh6"
   },
   "outputs": [],
   "source": [
    "print(d.keys())"
   ]
  },
  {
   "cell_type": "code",
   "execution_count": null,
   "metadata": {
    "id": "y9HV_zWLcFz7"
   },
   "outputs": [],
   "source": [
    "d2.keys()"
   ]
  },
  {
   "cell_type": "code",
   "execution_count": null,
   "metadata": {
    "id": "RRCll5K-oEW6"
   },
   "outputs": [],
   "source": [
    "d2.values()"
   ]
  },
  {
   "cell_type": "code",
   "execution_count": null,
   "metadata": {
    "id": "YYzF_DyGoHWm"
   },
   "outputs": [],
   "source": [
    "d2.items()"
   ]
  },
  {
   "cell_type": "code",
   "execution_count": null,
   "metadata": {
    "id": "fmxKFTs4pqwP"
   },
   "outputs": [],
   "source": [
    "d"
   ]
  },
  {
   "cell_type": "code",
   "execution_count": null,
   "metadata": {
    "id": "iy6FAQxHpt6Q"
   },
   "outputs": [],
   "source": [
    "d[\"a\"] = [3,4,5]\n",
    "d"
   ]
  },
  {
   "cell_type": "code",
   "execution_count": null,
   "metadata": {
    "id": "AINo_32Upzyv"
   },
   "outputs": [],
   "source": [
    "d.pop(\"python\")\n",
    "d"
   ]
  },
  {
   "cell_type": "code",
   "execution_count": null,
   "metadata": {
    "id": "QjErEFgGcFz9"
   },
   "outputs": [],
   "source": [
    "d.pop(\"python\")\n",
    "d"
   ]
  },
  {
   "cell_type": "code",
   "execution_count": null,
   "metadata": {
    "id": "nsOgHRxScFz9"
   },
   "outputs": [],
   "source": [
    "d"
   ]
  },
  {
   "cell_type": "code",
   "execution_count": null,
   "metadata": {
    "id": "U8QBwgp0sSJi"
   },
   "outputs": [],
   "source": [
    "len(d)"
   ]
  },
  {
   "cell_type": "code",
   "execution_count": null,
   "metadata": {
    "id": "89k7tFi_sWJO"
   },
   "outputs": [],
   "source": [
    "\"a\" in d"
   ]
  },
  {
   "cell_type": "code",
   "execution_count": null,
   "metadata": {
    "id": "XdyIf0L1sYRM"
   },
   "outputs": [],
   "source": [
    "\"3\" in d #Soru"
   ]
  },
  {
   "cell_type": "code",
   "execution_count": null,
   "metadata": {
    "id": "oJvHWYyouN9w"
   },
   "outputs": [],
   "source": [
    "d2"
   ]
  },
  {
   "cell_type": "code",
   "execution_count": null,
   "metadata": {
    "id": "wamfJIWHcFz_"
   },
   "outputs": [],
   "source": [
    "d2"
   ]
  },
  {
   "cell_type": "code",
   "execution_count": null,
   "metadata": {
    "id": "nyH6npGYuhRD"
   },
   "outputs": [],
   "source": [
    "del d2[\"deep\"]\n",
    "d2"
   ]
  },
  {
   "cell_type": "code",
   "execution_count": null,
   "metadata": {
    "id": "VJ1MoCoZcFz_"
   },
   "outputs": [],
   "source": [
    "d2"
   ]
  },
  {
   "cell_type": "code",
   "execution_count": null,
   "metadata": {
    "id": "xiSnYPJGcFz_"
   },
   "outputs": [],
   "source": [
    "d2['machine'] = \"Deep Learning\"\n",
    "d2"
   ]
  },
  {
   "cell_type": "code",
   "execution_count": null,
   "metadata": {
    "id": "kyINE7YscF0A"
   },
   "outputs": [],
   "source": [
    "d2_copy = d2.copy()\n",
    "d2_copy"
   ]
  },
  {
   "cell_type": "code",
   "execution_count": null,
   "metadata": {
    "id": "2YCOmkG8cF0A"
   },
   "outputs": [],
   "source": [
    "d2_copy['deep'] = 'AI'\n",
    "d2_copy"
   ]
  },
  {
   "cell_type": "code",
   "execution_count": null,
   "metadata": {
    "id": "b9SRNEShcF0A"
   },
   "outputs": [],
   "source": [
    "d2"
   ]
  },
  {
   "cell_type": "markdown",
   "metadata": {
    "id": "Ak4uMk3pzHZI"
   },
   "source": [
    "### Küme (set)\n",
    "\n",
    "Liste, sözlük ve demet veri türü gibi birden çok veri türünü birlikte barındıran veri tipidir. Kümeler ile ilgili yaptığınız her türlü işlevi(birleşme,kesişim vs.) bu veri tipi ile yapabilirsiniz.\n",
    "\n",
    "\n",
    "\n",
    "\n",
    "\n"
   ]
  },
  {
   "cell_type": "code",
   "execution_count": null,
   "metadata": {
    "id": "QgZuDyx3yvn9"
   },
   "outputs": [],
   "source": [
    "s = {\"python\", 5,6,8,5,6,\"abc\", \"python\",\"python\",\"python\",\"python\",\"python\",\"python\",\"python\",\"python\",\"python\"}\n",
    "s"
   ]
  },
  {
   "cell_type": "code",
   "execution_count": null,
   "metadata": {
    "id": "KmzyF9b--0Ci"
   },
   "outputs": [],
   "source": [
    "empty = set()\n",
    "type(empty)"
   ]
  },
  {
   "cell_type": "code",
   "execution_count": null,
   "metadata": {
    "id": "8qLJrT9VAUvf"
   },
   "outputs": [],
   "source": [
    "empty2 = {}\n",
    "type(empty2)"
   ]
  },
  {
   "cell_type": "code",
   "execution_count": null,
   "metadata": {
    "id": "TLu1Ec_bA__q"
   },
   "outputs": [],
   "source": [
    "ne = set(\"pineapple\")\n",
    "print(ne)"
   ]
  },
  {
   "cell_type": "code",
   "execution_count": null,
   "metadata": {
    "id": "GUtmrwfhB2mj"
   },
   "outputs": [],
   "source": [
    "6 in s"
   ]
  },
  {
   "cell_type": "code",
   "execution_count": null,
   "metadata": {
    "id": "lPvxuypLB4Pg"
   },
   "outputs": [],
   "source": [
    "len(s)"
   ]
  },
  {
   "cell_type": "code",
   "execution_count": null,
   "metadata": {
    "id": "wCijI6-vCEj6"
   },
   "outputs": [],
   "source": [
    "s.add(\"ai\")\n",
    "s"
   ]
  },
  {
   "cell_type": "code",
   "execution_count": null,
   "metadata": {
    "id": "tPq001PuCLO3"
   },
   "outputs": [],
   "source": [
    "s.add(\"ai\")\n",
    "print(s)\n",
    "len(s)"
   ]
  },
  {
   "cell_type": "code",
   "execution_count": null,
   "metadata": {
    "id": "EGZnvf9WCRYk"
   },
   "outputs": [],
   "source": [
    "s2.remove(\"ai\")\n",
    "print(s2)"
   ]
  },
  {
   "cell_type": "markdown",
   "metadata": {
    "id": "sp_E8xAhG21y"
   },
   "source": [
    "# Demet (Tuple)\n",
    "\n",
    "Demetler birden fazla veri türünü bir arada bulundurabilen virgüllerle veya parantez ile gösterilen immutable(değiştirilemeyen) veri tipleridir.\n",
    "\n"
   ]
  },
  {
   "cell_type": "code",
   "execution_count": null,
   "metadata": {
    "id": "8Rui2302H8jD"
   },
   "outputs": [],
   "source": [
    "tupl = (1,2,3,4,5)\n",
    "print(tupl)\n",
    "print(type(tupl))"
   ]
  },
  {
   "cell_type": "code",
   "execution_count": null,
   "metadata": {
    "id": "wZffTxPsIqqI"
   },
   "outputs": [],
   "source": [
    "tuple2 = ()  \n",
    "type(tuple2)"
   ]
  },
  {
   "cell_type": "code",
   "execution_count": null,
   "metadata": {
    "id": "IrvB1HzGLYBZ"
   },
   "outputs": [],
   "source": [
    "print(tupl[3])"
   ]
  },
  {
   "cell_type": "code",
   "execution_count": null,
   "metadata": {
    "id": "y_9FkBJORo5y"
   },
   "outputs": [],
   "source": [
    "tupl[-2]"
   ]
  },
  {
   "cell_type": "code",
   "execution_count": null,
   "metadata": {
    "id": "ZPMFZi-qRs4a"
   },
   "outputs": [],
   "source": [
    "tupl[:4]"
   ]
  },
  {
   "cell_type": "code",
   "execution_count": null,
   "metadata": {
    "id": "TeT5RXH1R6Gv"
   },
   "outputs": [],
   "source": [
    "dm3 = (\"asli\", 5, 8, \"september\")\n",
    "dm3.index(\"september\")"
   ]
  },
  {
   "cell_type": "code",
   "execution_count": null,
   "metadata": {
    "id": "wRks9wXwSRhJ"
   },
   "outputs": [],
   "source": [
    "dm3.count(5)\n"
   ]
  },
  {
   "cell_type": "code",
   "execution_count": null,
   "metadata": {
    "id": "Bo_JC5jkSWMf"
   },
   "outputs": [],
   "source": [
    "dm4 = (\"apple\",\"pear\",\"strawberry\")\n",
    "\n",
    "dm4[0] = \"cherry\"\n",
    "\n",
    "print(dm4)"
   ]
  },
  {
   "cell_type": "code",
   "execution_count": null,
   "metadata": {
    "id": "twLyvUivSoBr"
   },
   "outputs": [],
   "source": [
    "dm4.remove(\"pear\")"
   ]
  }
 ],
 "metadata": {
  "colab": {
   "collapsed_sections": [
    "IdTKuqyFmCN9"
   ],
   "include_colab_link": true,
   "name": "PG1926-Day1.ipynb",
   "provenance": []
  },
  "kernelspec": {
   "display_name": "Python 3",
   "language": "python",
   "name": "python3"
  },
  "language_info": {
   "codemirror_mode": {
    "name": "ipython",
    "version": 3
   },
   "file_extension": ".py",
   "mimetype": "text/x-python",
   "name": "python",
   "nbconvert_exporter": "python",
   "pygments_lexer": "ipython3",
   "version": "3.8.5"
  }
 },
 "nbformat": 4,
 "nbformat_minor": 1
}
