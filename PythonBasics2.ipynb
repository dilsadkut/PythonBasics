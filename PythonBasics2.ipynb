{
 "cells": [
  {
   "cell_type": "markdown",
   "metadata": {
    "id": "9Z4YvI9fBkjW"
   },
   "source": [
    "### While Döngüsü"
   ]
  },
  {
   "cell_type": "code",
   "execution_count": null,
   "metadata": {
    "id": "W9hjvMARBjtE"
   },
   "outputs": [],
   "source": [
    "a = 1\n",
    "\n",
    "while a == 1:             #while -> iken, olduğu sürece\n",
    "  "
   ]
  },
  {
   "cell_type": "code",
   "execution_count": null,
   "metadata": {
    "id": "9ursY-6qB3R0"
   },
   "outputs": [],
   "source": [
    "a = 1\n",
    "\n",
    "while a < 6:            #a’nın değeri 6’dan küçük olduğu müddetçe…\n",
    "  a += 1\n",
    "  print(\"5 kez yazdır\")             "
   ]
  },
  {
   "cell_type": "code",
   "execution_count": null,
   "metadata": {
    "id": "UOYC-Ea6CXRQ"
   },
   "outputs": [],
   "source": [
    "while True:         #Aksi belirtilmediği sürece çalışmaya devam et!\n",
    "    soru = input(\"Yapmak istediğiniz işlemin numarasını girin (Çıkmak için q): \")\n",
    "\n",
    "    if soru == \"q\":\n",
    "        print(\"çıkılıyor...\")\n",
    "        break"
   ]
  },
  {
   "cell_type": "code",
   "execution_count": null,
   "metadata": {
    "id": "AgSlaT_zD6AX"
   },
   "outputs": [],
   "source": [
    "#Aksi belirtilmediği sürece kullanıcıya\n",
    "#aşağıdaki soruyu sormaya devam et!\n",
    "while True:\n",
    "    soru = input(\"Nasılsınız, iyi misiniz?\")\n",
    "\n",
    "    #Eğer kullanıcı 'q' tuşuna basarsa...\n",
    "    if soru == \"q\":\n",
    "        break #döngüyü kır ve programdan çık."
   ]
  },
  {
   "cell_type": "code",
   "execution_count": null,
   "metadata": {
    "id": "-Lderx3XEDYg"
   },
   "outputs": [],
   "source": [
    "a = 0\n",
    "\n",
    "while a < 100:\n",
    "    a += 1\n",
    "    if a % 2 == 0:\n",
    "        print(a)\n"
   ]
  },
  {
   "cell_type": "markdown",
   "metadata": {
    "id": "AHjIgw_UEcpe"
   },
   "source": [
    "### For Döngüsü\n",
    "\n"
   ]
  },
  {
   "cell_type": "code",
   "execution_count": null,
   "metadata": {
    "id": "z_PfY4-eEevC"
   },
   "outputs": [],
   "source": [
    "for değişken_adı in değişken:\n",
    "    yapılacak_işlem"
   ]
  },
  {
   "cell_type": "code",
   "execution_count": null,
   "metadata": {
    "id": "6ulwH2lPEqKE"
   },
   "outputs": [],
   "source": [
    "tr_harfler = \"şçöğüİı\"\n",
    "\n",
    "for harf in tr_harfler:\n",
    "    print(harf)"
   ]
  },
  {
   "cell_type": "code",
   "execution_count": null,
   "metadata": {
    "id": "MyAfsmjzEwhB"
   },
   "outputs": [],
   "source": [
    "sayılar = 123456789\n",
    "for sayı in sayılar:   \n",
    "  print(sayı)"
   ]
  },
  {
   "cell_type": "code",
   "execution_count": null,
   "metadata": {
    "id": "fst5IGaKE-wN"
   },
   "outputs": [],
   "source": [
    "for gazi in \"PG1926\":\n",
    "    print(gazi)"
   ]
  },
  {
   "cell_type": "code",
   "execution_count": null,
   "metadata": {
    "id": "oyCDi80dFMrs"
   },
   "outputs": [],
   "source": [
    "tr_harfler = \"şçöğüİı\"\n",
    "\n",
    "parola = input(\"Parolanız: \")\n",
    "\n",
    "for karakter in parola:\n",
    "    if karakter in tr_harfler:\n",
    "        print(\"parolada Türkçe karakter kullanılamaz\")"
   ]
  },
  {
   "cell_type": "code",
   "execution_count": null,
   "metadata": {
    "id": "LjENM1PHFdk3"
   },
   "outputs": [],
   "source": [
    "for i in range(0, 10):       #range = aralık\n",
    "  print(i)                   #range(ilk_sayı, son_sayı)"
   ]
  },
  {
   "cell_type": "code",
   "execution_count": null,
   "metadata": {
    "id": "RJn3v7kqF1sp"
   },
   "outputs": [],
   "source": [
    "ilk_metin = \"asdasfddgdhfjfdgdşfkgjdfklgşjdfklgjdfkghdfjghjklsdhajlsdhjkjhkhjjhu9\"\n",
    "ikinci_metin = \"sdfsuıdoryeuıfsjkdfhdjklghjdfklruseldhfjlkdshfljskeeuf\"\n",
    "\n",
    "for s in ilk_metin:\n",
    "    if not s in ikinci_metin:\n",
    "        print(s)"
   ]
  },
  {
   "cell_type": "markdown",
   "metadata": {
    "id": "d7tuplGdGtp3"
   },
   "source": [
    "### Fonksiyonlar"
   ]
  },
  {
   "cell_type": "code",
   "execution_count": null,
   "metadata": {
    "id": "3oSzlmjYG2kV"
   },
   "outputs": [],
   "source": [
    "def kayıt_oluştur(parametre1, parametre2, parametre3, parametre4):   #Fonksiyon tanımı\n",
    "    (...)\n",
    "\n",
    "kayıt_oluştur(parametre1, parametre2, parametre3, parametre4)   #Fonksiyon çağrısı"
   ]
  },
  {
   "cell_type": "code",
   "execution_count": null,
   "metadata": {
    "id": "b-wfCRT4HDKD"
   },
   "outputs": [],
   "source": [
    "def selamla():\n",
    "    print(\"Selam PG1926!\")\n",
    "selamla()"
   ]
  },
  {
   "cell_type": "code",
   "execution_count": null,
   "metadata": {
    "id": "6yIguEhDH1XF"
   },
   "outputs": [],
   "source": [
    "def selam(isim):\n",
    "  print(\"Selam \" + isim)\n",
    "  \n",
    "  "
   ]
  },
  {
   "cell_type": "code",
   "execution_count": null,
   "metadata": {
    "id": "zUzEIFlcH8-7"
   },
   "outputs": [],
   "source": [
    "selam('ahmet')"
   ]
  },
  {
   "cell_type": "code",
   "execution_count": null,
   "metadata": {
    "id": "aYQ40QkhIM81"
   },
   "outputs": [],
   "source": [
    "def toplama(a,b):\n",
    "  toplam = a + b\n",
    "  print(toplam)\n"
   ]
  },
  {
   "cell_type": "code",
   "execution_count": null,
   "metadata": {
    "id": "3OsDQ4_yBd4L"
   },
   "outputs": [],
   "source": [
    "toplama(4,5)"
   ]
  },
  {
   "cell_type": "code",
   "execution_count": null,
   "metadata": {
    "id": "l6VQPNS1Gu_I"
   },
   "outputs": [],
   "source": [
    "def kayıt_oluştur(isim, soyisim, işsis, şehir):\n",
    "    print(\"-\"*30)\n",
    "\n",
    "    print(\"isim           : \", isim)\n",
    "    print(\"soyisim        : \", soyisim)\n",
    "    print(\"işletim sistemi: \", işsis)\n",
    "    print(\"şehir          : \", şehir)\n",
    "\n",
    "    print(\"-\"*30)"
   ]
  },
  {
   "cell_type": "code",
   "execution_count": null,
   "metadata": {
    "id": "hQzFX6_OIkHJ"
   },
   "outputs": [],
   "source": [
    "def ismin_ne():\n",
    "    isim = input(\"ismin ne? \")\n",
    "    print(isim)   #return isim"
   ]
  },
  {
   "cell_type": "code",
   "execution_count": null,
   "metadata": {
    "id": "wq-9pVBnI37T"
   },
   "outputs": [],
   "source": [
    "ismin_ne()"
   ]
  },
  {
   "cell_type": "markdown",
   "metadata": {
    "id": "NjEk5IAyJ5rc"
   },
   "source": [
    "### Modüller\n",
    "\n",
    "Modüller Python programcılarına büyük kolaylık sağlayan yapılardan biridir.Python modüller; içerisinde bir takım özellikleri,fonksiyonları barındıran yapılardır."
   ]
  },
  {
   "cell_type": "code",
   "execution_count": null,
   "metadata": {
    "id": "14xj7MMPJ6f7"
   },
   "outputs": [],
   "source": [
    "import os"
   ]
  },
  {
   "cell_type": "code",
   "execution_count": null,
   "metadata": {
    "id": "95LANZWWMali"
   },
   "outputs": [],
   "source": [
    "from os import name,getcwd\n",
    "print(name)\n",
    "print(getcwd())"
   ]
  },
  {
   "cell_type": "markdown",
   "metadata": {
    "id": "Mhw-s7NUdWZ1"
   },
   "source": []
  },
  {
   "cell_type": "code",
   "execution_count": null,
   "metadata": {
    "id": "odC9yV9VKDGa"
   },
   "outputs": [],
   "source": [
    "dir(os) #dir -> directory"
   ]
  },
  {
   "cell_type": "code",
   "execution_count": null,
   "metadata": {
    "id": "CbVUen3VKDrR"
   },
   "outputs": [],
   "source": [
    "if os.name != 'nt':\n",
    "  print('Kusura bakmayın! Bu programı yalnızca',\n",
    "  'Windows\\'ta kullanabilirsiniz!')\n",
    "... else:\n",
    "  print('Hoşgeldin Windows kullanıcısı!')"
   ]
  },
  {
   "cell_type": "code",
   "execution_count": null,
   "metadata": {
    "id": "aCPK6hp5K-KY"
   },
   "outputs": [],
   "source": [
    "import subprocess as sb"
   ]
  },
  {
   "cell_type": "markdown",
   "metadata": {
    "id": "xCgDB0dadeYF"
   },
   "source": [
    "### Nesne Yönelik Programlama (OOP)"
   ]
  },
  {
   "cell_type": "markdown",
   "metadata": {
    "id": "QCzD4-KDdyOi"
   },
   "source": [
    "Nesne Yönelikli Programlamanın sağladığı kolaylıklar\n",
    "* Gerçek dünyadaki nesnelerin tasarımları sınıf içinde yapılır.\n",
    "* Sınıftan nesne üretilip değişiklik yapılmak istendiğinde tüm programda değişiklik yapmak gerekmez sadece oluşturulan nesnenın sınıf içinde değişiklik yapmak yeterlidir.\n",
    "* Oluşturulan nesneler birbirinden bağımsız olduğu için bilgi gizleme olanağı artar.\n",
    " Örneğin A nesnesi B nesnesinin özelliklerini kullanamaz ve erişemez.\n",
    "* Nesne oluşturma bir sınıf içerisinde gerçekleştirilir ve bu kodlar başka projelerde kullanılabilir.\n",
    " Örneğin bir A nesnesi oluşturduysak bunu birçok yerde kullanabiliriz.\n",
    "* Sınıflar oluşturarak daha az kod oluşturup daha fazla iş yapıp kod tekarı önlenir.\n",
    "* Örneğin insan sınıfında isim, soyisim, yaş… gibi özellikleri bir defa oluşturup istediğimiz kadar kullanabiliriz.\n",
    "* Kod tekrarı önlediği için geliştirme sürecinin verimliliğini artırır."
   ]
  },
  {
   "cell_type": "markdown",
   "metadata": {
    "id": "Ys6CXspMeBeq"
   },
   "source": [
    "### Sınıflar"
   ]
  },
  {
   "cell_type": "markdown",
   "metadata": {
    "id": "093fuuYKeI5h"
   },
   "source": [
    "Çok kaba ve oldukça soyut bir şekilde tanımlayacak olursak, sınıflar, nesne üretmemizi sağlayan veri tipleridir. İşte nesne tabanlı programlama, adından da anlaşılacağı gibi, nesneler (ve dolayısıyla sınıflar) temel alınarak gerçekleştirilen bir programlama faaliyetidir."
   ]
  },
  {
   "cell_type": "code",
   "execution_count": null,
   "metadata": {
    "id": "9ehrz366eGEW"
   },
   "outputs": [],
   "source": [
    "class YeniSınıf():   #Sınıf tanımlama\n",
    "    pass"
   ]
  },
  {
   "cell_type": "code",
   "execution_count": null,
   "metadata": {
    "id": "JnJJFUgYeKUH"
   },
   "outputs": [],
   "source": [
    "def çalışan():\n",
    "    kabiliyetleri = []\n",
    "    unvanı = 'işçi'\n",
    "\n",
    "    print(kabiliyetleri)\n",
    "    print(unvanı)"
   ]
  },
  {
   "cell_type": "code",
   "execution_count": null,
   "metadata": {
    "id": "FkCe8sQEfNP0"
   },
   "outputs": [],
   "source": [
    "class Çalışan():\n",
    "    kabiliyetleri = []\n",
    "    unvanı = 'işçi'\n",
    "\n",
    "    print(kabiliyetleri)\n",
    "    print(unvanı)"
   ]
  },
  {
   "cell_type": "code",
   "execution_count": null,
   "metadata": {
    "id": "RVbB8Z-2fb0p"
   },
   "outputs": [],
   "source": [
    "class Çalışan():\n",
    "    kabiliyetleri = []\n",
    "    unvanı = 'işçi'\n",
    "\n",
    "print(Çalışan.kabiliyetleri)\n",
    "print(Çalışan.unvanı)"
   ]
  },
  {
   "cell_type": "code",
   "execution_count": null,
   "metadata": {
    "id": "-p3mXqYcfk6o"
   },
   "outputs": [],
   "source": [
    "class Çalışan():\n",
    "    kabiliyetleri = []\n",
    "    unvanı = 'işçi'\n",
    "    maaşı = 2500\n",
    "    memleketi = ''\n",
    "    doğum_tarihi = ''"
   ]
  },
  {
   "cell_type": "code",
   "execution_count": null,
   "metadata": {
    "id": "DWUBqI7AfoEh"
   },
   "outputs": [],
   "source": [
    "print(Çalışan.maaşı)\n",
    "print(Çalışan.memleketi)\n",
    "print(Çalışan.doğum_tarihi)"
   ]
  },
  {
   "cell_type": "code",
   "execution_count": null,
   "metadata": {
    "id": "gimB_aKbfugP"
   },
   "outputs": [],
   "source": [
    "Çalışan.isim = 'Ahmet','Mehmet'\n",
    "Çalışan.yaş = 40"
   ]
  },
  {
   "cell_type": "code",
   "execution_count": null,
   "metadata": {
    "id": "sghLsx2pfw8v"
   },
   "outputs": [],
   "source": [
    "print(Çalışan.isim)"
   ]
  },
  {
   "cell_type": "code",
   "execution_count": null,
   "metadata": {
    "id": "uqxADVhVgDcu"
   },
   "outputs": [],
   "source": [
    "class Asker():\n",
    "    rütbesi = 'Er'\n",
    "    standart_teçhizat = ['G3', 'kasatura', 'süngü', 'el bombası']\n",
    "    gücü = 60\n",
    "    birliği = ''"
   ]
  },
  {
   "cell_type": "code",
   "execution_count": null,
   "metadata": {
    "id": "L2cd-oNtgEJQ"
   },
   "outputs": [],
   "source": [
    "Asker.gücü"
   ]
  },
  {
   "cell_type": "code",
   "execution_count": null,
   "metadata": {
    "id": "yJdHiLD-gSdu"
   },
   "outputs": [],
   "source": [
    "ahmet = Asker()  #Örnekleme (instance)"
   ]
  },
  {
   "cell_type": "code",
   "execution_count": null,
   "metadata": {
    "id": "9a7zjj5VgUAQ"
   },
   "outputs": [],
   "source": [
    "ahmet.gücü = 70"
   ]
  },
  {
   "cell_type": "code",
   "execution_count": null,
   "metadata": {
    "id": "ZZxGaH71ghAM"
   },
   "outputs": [],
   "source": [
    "print(ahmet.gücü)"
   ]
  },
  {
   "cell_type": "code",
   "execution_count": null,
   "metadata": {
    "id": "wonYDOtyg-Iy"
   },
   "outputs": [],
   "source": [
    "ahmet.standart_teçhizat.append(\"Bıçak\")"
   ]
  },
  {
   "cell_type": "code",
   "execution_count": null,
   "metadata": {
    "id": "PsHt2yD0hB5L"
   },
   "outputs": [],
   "source": [
    "print(ahmet.standart_teçhizat)"
   ]
  },
  {
   "cell_type": "code",
   "execution_count": null,
   "metadata": {
    "id": "OT4fsv9mhD4f"
   },
   "outputs": [],
   "source": [
    "mehmet = Asker()"
   ]
  },
  {
   "cell_type": "code",
   "execution_count": null,
   "metadata": {
    "id": "8c-pqMuIhM40"
   },
   "outputs": [],
   "source": [
    "print(mehmet.gücü)"
   ]
  },
  {
   "cell_type": "markdown",
   "metadata": {
    "id": "CSxi4yc2kDWq"
   },
   "source": [
    "### __init__ Fonksiyonu ve self"
   ]
  },
  {
   "cell_type": "markdown",
   "metadata": {
    "id": "c2fvw4q-l14h"
   },
   "source": [
    "İnit nedir?\n",
    "\n",
    "__init__ metodu initialize – ilklendirmek, initializer – başlatıcı kavramlarından gelmektedir. __init__ , OOP ile programlamada bir class’ın yapıcı (constructor) metodur. Eğer bir class’tan nesne türetecek isek __init__ ,class’ın ilk metodu olmak zorundadır. Class içinden türetilen nesnelere ait özellikler bu metot ile nesnelere atanır.\n",
    "Aşağıdaki örnekte Arabalar() adında bir class oluşturduk. Genel olarak her arabada bulunan fakat arabadan arabaya değişiklik gösteren marka, model, renk ve vites gibi ayırt edeci özellikleri class’ımıza atadık."
   ]
  },
  {
   "cell_type": "markdown",
   "metadata": {
    "id": "AAWcKMermElW"
   },
   "source": [
    "Self nedir?\n",
    "\n",
    "__init__ metodunun yapısına baktığımızda parantez içinde self kavramı dikkatimizi çekmektedir. self anahtar sözcüğü (keyword) __init__ metodu ile gelen ve class içinden türetmiş olduğumuz nesnelere ulaşmamızı sağlayan bir kavramdır. __init__ metodunu class’tan hemen sonra kullandığımızda gelen self keyword yerine biz kendi keyword’ümüzü de yazabiliriz ve daha sonra, çağırmak istediğimiz her özellik için oluşturduğumuz keyword’ü kullanabiliriz. Tavsiye olarak self sözcüğünü karışıklık olmaması adına değiştirmemenizi tavsiye ederim."
   ]
  },
  {
   "cell_type": "code",
   "execution_count": null,
   "metadata": {
    "id": "78f9mFIMmN-Y"
   },
   "outputs": [],
   "source": [
    "class Arabalar():\n",
    "    def __init__(self,marka,model,renk,vites):\n",
    "        self.marka  = marka\n",
    "        self.model  = model\n",
    "        self.renk   = renk\n",
    "        self.vites  = vites"
   ]
  },
  {
   "cell_type": "code",
   "execution_count": null,
   "metadata": {
    "id": "7jvOocaumb_W"
   },
   "outputs": [],
   "source": [
    "araba_1 = Arabalar(\"Ford\", \"Mustang\", \"Siyah\", \"Manuel\") #nesne yaratmak.\n",
    "\n",
    "araba_2 = Arabalar(\"BMW\", \"X6\", \"Beyaz\", \"Otomatik\")\n",
    "\n",
    "araba_3 = Arabalar()\n",
    "\n"
   ]
  },
  {
   "cell_type": "code",
   "execution_count": null,
   "metadata": {
    "id": "XOkx4v-Nm_rA"
   },
   "outputs": [],
   "source": [
    "print(araba_1.marka)\n",
    "print(araba_2.marka)"
   ]
  },
  {
   "cell_type": "code",
   "execution_count": null,
   "metadata": {
    "id": "wSurmHhnlW2e"
   },
   "outputs": [],
   "source": [
    "class Çalışan():\n",
    "    personel = []\n",
    "\n",
    "    def __init__(self, isim):\n",
    "        self.isim = isim\n",
    "        self.kabiliyetleri = []\n",
    "        self.personele_ekle()\n",
    "\n",
    "    def personele_ekle(self):\n",
    "        self.personel.append(self.isim)\n",
    "        print('{} adlı kişi personele eklendi'.format(self.isim))\n",
    "\n",
    "    def personeli_görüntüle(self):\n",
    "        print('Personel listesi:')\n",
    "        for kişi in self.personel:\n",
    "            print(kişi)\n",
    "\n",
    "    def kabiliyet_ekle(self, kabiliyet):\n",
    "        self.kabiliyetleri.append(kabiliyet)\n",
    "\n",
    "    def kabiliyetleri_görüntüle(self):\n",
    "        print('{} adlı kişinin kabiliyetleri:'.format(self.isim))\n",
    "        for kabiliyet in self.kabiliyetleri:\n",
    "            print(kabiliyet)"
   ]
  },
  {
   "cell_type": "code",
   "execution_count": null,
   "metadata": {
    "id": "SsjueV3XlXnv"
   },
   "outputs": [],
   "source": [
    "\n",
    "ç1 = çalışan.Çalışan('Ahmet')"
   ]
  },
  {
   "cell_type": "code",
   "execution_count": null,
   "metadata": {
    "id": "GpMGWD8PllD2"
   },
   "outputs": [],
   "source": []
  },
  {
   "cell_type": "markdown",
   "metadata": {
    "id": "iimYMpWsoBrE"
   },
   "source": [
    "### Miras alma & verme"
   ]
  },
  {
   "cell_type": "code",
   "execution_count": null,
   "metadata": {
    "id": "MYS_Mj3coEIc"
   },
   "outputs": [],
   "source": [
    "class Akademisyen:\n",
    "    def __init__(self,adi,soyadi,numarasi):\n",
    "        self.adi = adi\n",
    "        self.soyadi = soyadi\n",
    "        self.numarasi = numarasi\n",
    " \n",
    " \n",
    "    def giris(self):\n",
    "        print(\"Giriş Yapıldı\")\n",
    " \n",
    "    def cikis(self):\n",
    "        print(\"Çıkış yapıldı\")\n",
    " \n",
    " \n",
    "class Personel:\n",
    "    def __init__(self, adi, soyadi, numarasi):\n",
    "        self.adi = adi\n",
    "        self.soyadi = soyadi\n",
    "        self.numarasi = numarasi\n",
    " \n",
    "    def giris(self):\n",
    "        print(\"Giriş Yapıldı\")\n",
    " \n",
    "    def cikis(self):\n",
    "        print(\"Çıkış yapıldı\")\n",
    " \n",
    " \n",
    "class Ogrenci:\n",
    "    def __init__(self, adi, soyadi, numarasi):\n",
    "        self.adi = adi\n",
    "        self.soyadi = soyadi\n",
    "        self.numarasi = numarasi\n",
    " \n",
    "    def giris(self):\n",
    "        print(\"Giriş Yapıldı\")\n",
    " \n",
    "    def cikis(self):\n",
    "        print(\"Çıkış yapıldı\")"
   ]
  },
  {
   "cell_type": "code",
   "execution_count": null,
   "metadata": {
    "id": "53fFHB0xoFyf"
   },
   "outputs": [],
   "source": [
    "class Kullanici:\n",
    "    def __init__(self,adi,soyadi,numara):\n",
    "        print(\"Kullanıcı sınıfı fonksiyonu\")\n",
    "        self.adi = adi\n",
    "        self.soyadi = soyadi\n",
    "        self.numara = numara\n",
    " \n",
    " \n",
    "    def giris(self):\n",
    "        print(\"Giriş Yapıldı\")\n",
    " \n",
    "    def cikis(self):\n",
    "        print(\"Çıkış yapıldı\")\n",
    " \n",
    " \n",
    " \n",
    "class Akademisyen(Kullanici):\n",
    "    pass\n",
    "class Personel(Kullanici):\n",
    "    pass\n",
    "class Ogrenci(Kullanici):\n",
    "    pass"
   ]
  },
  {
   "cell_type": "code",
   "execution_count": null,
   "metadata": {
    "id": "JS6xbgznoJ0g"
   },
   "outputs": [],
   "source": [
    "ogr_ahmet = Kullanici(\"Ahmet\", \"Deniz\", \"123123\")"
   ]
  },
  {
   "cell_type": "code",
   "execution_count": null,
   "metadata": {
    "id": "vsof-64iocq2"
   },
   "outputs": [],
   "source": [
    "prof_mehmet = Akademisyen(\"Mehmet\", \"Beyaz\", \"123123\")"
   ]
  },
  {
   "cell_type": "code",
   "execution_count": null,
   "metadata": {
    "id": "mFnsL2fyopCz"
   },
   "outputs": [],
   "source": [
    "prof_mehmet.numara"
   ]
  },
  {
   "cell_type": "code",
   "execution_count": null,
   "metadata": {
    "id": "gSqMGm1VosmO"
   },
   "outputs": [],
   "source": []
  }
 ],
 "metadata": {
  "colab": {
   "authorship_tag": "ABX9TyObKbz4unSObtc3eLc1zdRi",
   "include_colab_link": true,
   "name": "PG1926_Day2.ipynb",
   "provenance": []
  },
  "kernelspec": {
   "display_name": "Python 3",
   "language": "python",
   "name": "python3"
  },
  "language_info": {
   "codemirror_mode": {
    "name": "ipython",
    "version": 3
   },
   "file_extension": ".py",
   "mimetype": "text/x-python",
   "name": "python",
   "nbconvert_exporter": "python",
   "pygments_lexer": "ipython3",
   "version": "3.8.5"
  }
 },
 "nbformat": 4,
 "nbformat_minor": 1
}
