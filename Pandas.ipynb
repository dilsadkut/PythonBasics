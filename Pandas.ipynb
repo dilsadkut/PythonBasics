{
  "nbformat": 4,
  "nbformat_minor": 0,
  "metadata": {
    "colab": {
      "name": "pandas_library.ipynb",
      "provenance": [],
      "collapsed_sections": [],
      "authorship_tag": "ABX9TyMJx4G5YLLduCNOMqmklF/8",
      "include_colab_link": true
    },
    "kernelspec": {
      "name": "python3",
      "display_name": "Python 3"
    }
  },
  "cells": [
    {
      "cell_type": "markdown",
      "metadata": {
        "id": "view-in-github",
        "colab_type": "text"
      },
      "source": [
        "<a href=\"https://colab.research.google.com/github/kaanberke/python3_101/blob/master/AI_logs/pandas_library.ipynb\" target=\"_parent\"><img src=\"https://colab.research.google.com/assets/colab-badge.svg\" alt=\"Open In Colab\"/></a>"
      ]
    },
    {
      "cell_type": "code",
      "metadata": {
        "id": "jRcuu1vFfMAa"
      },
      "source": [
        "import pandas as pd\n",
        "import numpy as np"
      ],
      "execution_count": null,
      "outputs": []
    },
    {
      "cell_type": "code",
      "metadata": {
        "id": "MoP72w9efsig"
      },
      "source": [
        "pd.Series([10, -5, 1.1, 77.7])"
      ],
      "execution_count": null,
      "outputs": []
    },
    {
      "cell_type": "code",
      "metadata": {
        "id": "kLkEKeKBfxRz"
      },
      "source": [
        "pd.Series([10, -5, 1.1, 77.7], index=[\"Chandler\", \"Bing\", \"Bender\", \"Rodriguez\"])"
      ],
      "execution_count": null,
      "outputs": []
    },
    {
      "cell_type": "code",
      "metadata": {
        "id": "FK44L__XgJcV"
      },
      "source": [
        "data = {\n",
        "    \"isim\": [\"Ahmet\", \"Ezgi\", \"Mehmet\", \"Sevda\"],\n",
        "    \"boy\": [180, 170, 150, np.nan],\n",
        "    \"ayakkabi_no\": [42, np.nan, 39, 36],\n",
        "    \"kilo\": [80, 50, 70, 45]\n",
        "}"
      ],
      "execution_count": null,
      "outputs": []
    },
    {
      "cell_type": "code",
      "metadata": {
        "id": "MHXDy8Ztgx7y"
      },
      "source": [
        "from pprint import pprint\n",
        "pprint(data)"
      ],
      "execution_count": null,
      "outputs": []
    },
    {
      "cell_type": "code",
      "metadata": {
        "id": "JjD2ZJUVpkN8"
      },
      "source": [
        "rand_numbers = np.random.random((7, 4))"
      ],
      "execution_count": null,
      "outputs": []
    },
    {
      "cell_type": "code",
      "metadata": {
        "id": "5X6falhPpIWI"
      },
      "source": [
        "df = pd.DataFrame(rand_numbers)\n",
        "df"
      ],
      "execution_count": null,
      "outputs": []
    },
    {
      "cell_type": "code",
      "metadata": {
        "id": "KH6SlVAipWEz"
      },
      "source": [
        "df = pd.DataFrame(rand_numbers, columns=[\"00.00\", \"06.00\", \"12.00\", \"18.00\"])\n",
        "df"
      ],
      "execution_count": null,
      "outputs": []
    },
    {
      "cell_type": "code",
      "metadata": {
        "id": "vHB5ejiOpqxe"
      },
      "source": [
        "dates = pd.date_range(\"20210309\", periods=7)\n",
        "dates"
      ],
      "execution_count": null,
      "outputs": []
    },
    {
      "cell_type": "code",
      "metadata": {
        "id": "Fy2UCQEhp7HM"
      },
      "source": [
        "df = pd.DataFrame(rand_numbers,\n",
        "                  index=dates,\n",
        "                  columns=[\"00.00\", \"06.00\", \"12.00\", \"18.00\"])\n",
        "df"
      ],
      "execution_count": null,
      "outputs": []
    },
    {
      "cell_type": "code",
      "metadata": {
        "id": "LxfB_teUqFLr"
      },
      "source": [
        "df.dtypes"
      ],
      "execution_count": null,
      "outputs": []
    },
    {
      "cell_type": "code",
      "metadata": {
        "id": "ebPef6uLqX9N"
      },
      "source": [
        "df2 = pd.DataFrame(\n",
        "    {\n",
        "        \"A\": 1.0,\n",
        "        \"B\": pd.Timestamp(\"20210309\"),\n",
        "        \"C\": pd.Series(1, index=list(range(4)), dtype=\"float32\"),\n",
        "        \"D\": np.array([3] * 4, dtype=\"int32\"),\n",
        "        \"E\": pd.Categorical([\"test\", \"train\", \"validation\", \"train\"]),\n",
        "        \"F\": \"foo\",\n",
        "    }\n",
        ")\n",
        "df2"
      ],
      "execution_count": null,
      "outputs": []
    },
    {
      "cell_type": "code",
      "metadata": {
        "id": "u0Edqed8qeow"
      },
      "source": [
        "df2.dtypes"
      ],
      "execution_count": null,
      "outputs": []
    },
    {
      "cell_type": "code",
      "metadata": {
        "id": "kpN2gP7eq_-D"
      },
      "source": [
        "df.head()"
      ],
      "execution_count": null,
      "outputs": []
    },
    {
      "cell_type": "code",
      "metadata": {
        "id": "VcP2u-sfrQhz"
      },
      "source": [
        "df.head(2)"
      ],
      "execution_count": null,
      "outputs": []
    },
    {
      "cell_type": "code",
      "metadata": {
        "id": "B2lYuii_rSSj"
      },
      "source": [
        "df.tail()"
      ],
      "execution_count": null,
      "outputs": []
    },
    {
      "cell_type": "code",
      "metadata": {
        "id": "9jgbP7m1rTQe"
      },
      "source": [
        "df.tail(2)"
      ],
      "execution_count": null,
      "outputs": []
    },
    {
      "cell_type": "code",
      "metadata": {
        "id": "dpA6VYH2rWYU"
      },
      "source": [
        "df.index"
      ],
      "execution_count": null,
      "outputs": []
    },
    {
      "cell_type": "code",
      "metadata": {
        "id": "8qr3a7cYrcyP"
      },
      "source": [
        "df.columns"
      ],
      "execution_count": null,
      "outputs": []
    },
    {
      "cell_type": "code",
      "metadata": {
        "id": "jIUokJpcrpmk"
      },
      "source": [
        "df.to_numpy()"
      ],
      "execution_count": null,
      "outputs": []
    },
    {
      "cell_type": "code",
      "metadata": {
        "id": "wHFAufNcrt7Y"
      },
      "source": [
        "df.describe()"
      ],
      "execution_count": null,
      "outputs": []
    },
    {
      "cell_type": "code",
      "metadata": {
        "id": "V7q9to9Wrzay"
      },
      "source": [
        "arr = np.array([1, 2, 3, 4, 5, 6]).reshape(2, 3)\n",
        "arr.T"
      ],
      "execution_count": null,
      "outputs": []
    },
    {
      "cell_type": "code",
      "metadata": {
        "id": "mdXdMea_sz09"
      },
      "source": [
        "df.sort_index(axis=0, ascending=False)"
      ],
      "execution_count": null,
      "outputs": []
    },
    {
      "cell_type": "code",
      "metadata": {
        "id": "-ivAIjDXwrbG"
      },
      "source": [
        "df.sort_index(axis=1, ascending=False)"
      ],
      "execution_count": null,
      "outputs": []
    },
    {
      "cell_type": "code",
      "metadata": {
        "id": "Jl_zOltLw2eb"
      },
      "source": [
        "df.sort_values(by=\"06.00\")"
      ],
      "execution_count": null,
      "outputs": []
    },
    {
      "cell_type": "code",
      "metadata": {
        "id": "6wSO73oPxIj2"
      },
      "source": [
        "df[\"06.00\"]"
      ],
      "execution_count": null,
      "outputs": []
    },
    {
      "cell_type": "code",
      "metadata": {
        "id": "KHFkWc9KyyKB"
      },
      "source": [
        "df[0: 3]"
      ],
      "execution_count": null,
      "outputs": []
    },
    {
      "cell_type": "code",
      "metadata": {
        "id": "BAL1oAvszViH"
      },
      "source": [
        "df[0,:]"
      ],
      "execution_count": null,
      "outputs": []
    },
    {
      "cell_type": "code",
      "metadata": {
        "id": "UAjWcveEy2SD"
      },
      "source": [
        "dates[0]"
      ],
      "execution_count": null,
      "outputs": []
    },
    {
      "cell_type": "code",
      "metadata": {
        "id": "asO0mMr1zRmV"
      },
      "source": [
        "df.loc[dates[0]]"
      ],
      "execution_count": null,
      "outputs": []
    },
    {
      "cell_type": "code",
      "metadata": {
        "id": "w6Fu4GVGzhyV"
      },
      "source": [
        "df.loc[\"20210312\": \"20210314\", [\"00.00\", \"18.00\"]]"
      ],
      "execution_count": null,
      "outputs": []
    },
    {
      "cell_type": "code",
      "metadata": {
        "id": "W7YFYuo33IO6"
      },
      "source": [
        "import time"
      ],
      "execution_count": null,
      "outputs": []
    },
    {
      "cell_type": "code",
      "metadata": {
        "id": "3MkZ765WzoIz"
      },
      "source": [
        "start = time.time()\n",
        "print(\"Değer:\", df.loc[\"2021-03-14\", \"00.00\"])\n",
        "print(time.time()-start)"
      ],
      "execution_count": null,
      "outputs": []
    },
    {
      "cell_type": "code",
      "metadata": {
        "id": "75jgmbYW28A4"
      },
      "source": [
        "start = time.time()\n",
        "print(\"Değer:\", df.at[\"2021-03-14\", \"00.00\"])\n",
        "print(time.time()-start)"
      ],
      "execution_count": null,
      "outputs": []
    },
    {
      "cell_type": "code",
      "metadata": {
        "id": "wX4JNClP3HWG"
      },
      "source": [
        "df.iloc[0:4, 0:2]"
      ],
      "execution_count": null,
      "outputs": []
    },
    {
      "cell_type": "code",
      "metadata": {
        "id": "Doa7u7By3yL_"
      },
      "source": [
        "df.iloc[[0, 2, 4], [2, 3]]"
      ],
      "execution_count": null,
      "outputs": []
    },
    {
      "cell_type": "code",
      "metadata": {
        "id": "3YMlqQuh35iN"
      },
      "source": [
        "df[df[\"12.00\"] > 0.5]"
      ],
      "execution_count": null,
      "outputs": []
    },
    {
      "cell_type": "code",
      "metadata": {
        "id": "vpMNP8Nn4EXA"
      },
      "source": [
        "df2 = df"
      ],
      "execution_count": null,
      "outputs": []
    },
    {
      "cell_type": "code",
      "metadata": {
        "id": "UPI3wjDp4VoO"
      },
      "source": [
        "print(df2.iloc[0, 0])\n",
        "df2.iloc[0, 0] = \"HAHA\""
      ],
      "execution_count": null,
      "outputs": []
    },
    {
      "cell_type": "code",
      "metadata": {
        "id": "bkIWDxr74YNn"
      },
      "source": [
        "df2"
      ],
      "execution_count": null,
      "outputs": []
    },
    {
      "cell_type": "code",
      "metadata": {
        "id": "EbS1iD4h4Y7R"
      },
      "source": [
        "df"
      ],
      "execution_count": null,
      "outputs": []
    },
    {
      "cell_type": "code",
      "metadata": {
        "id": "p1XxOwHX4aBG"
      },
      "source": [
        "df.loc[\"2021-03-13\": \"2021-03-14\", \"06.00\": \"12.00\"] = np.nan\n",
        "df"
      ],
      "execution_count": null,
      "outputs": []
    },
    {
      "cell_type": "code",
      "metadata": {
        "id": "-HSI-Gp-5XNv"
      },
      "source": [
        "df.dropna(how=\"any\")"
      ],
      "execution_count": null,
      "outputs": []
    },
    {
      "cell_type": "code",
      "metadata": {
        "id": "bc68hLAr60S8"
      },
      "source": [
        "df"
      ],
      "execution_count": null,
      "outputs": []
    },
    {
      "cell_type": "code",
      "metadata": {
        "id": "1Vcnosw768oj"
      },
      "source": [
        "df.dropna(how=\"all\", axis=1)"
      ],
      "execution_count": null,
      "outputs": []
    },
    {
      "cell_type": "code",
      "metadata": {
        "id": "y41dLVYC61la"
      },
      "source": [
        "df.fillna(value=0)"
      ],
      "execution_count": null,
      "outputs": []
    },
    {
      "cell_type": "code",
      "metadata": {
        "id": "Y_RDHY1C7J-Z"
      },
      "source": [
        "df"
      ],
      "execution_count": null,
      "outputs": []
    },
    {
      "cell_type": "code",
      "metadata": {
        "id": "IWn3ySSA7O1A"
      },
      "source": [
        "df.isna()"
      ],
      "execution_count": null,
      "outputs": []
    },
    {
      "cell_type": "code",
      "metadata": {
        "id": "YB3DIqH57Z0o"
      },
      "source": [
        "df.mean()"
      ],
      "execution_count": null,
      "outputs": []
    },
    {
      "cell_type": "code",
      "metadata": {
        "id": "wDasR2SD7tH_"
      },
      "source": [
        "df.mean(axis=1)"
      ],
      "execution_count": null,
      "outputs": []
    },
    {
      "cell_type": "code",
      "metadata": {
        "id": "KobD_f8V73p1"
      },
      "source": [
        "df.apply(lambda x: x.max())"
      ],
      "execution_count": null,
      "outputs": []
    },
    {
      "cell_type": "code",
      "metadata": {
        "id": "EAN61Cwq8RP9"
      },
      "source": [
        "df.apply(lambda x: x.sum(), axis=1)"
      ],
      "execution_count": null,
      "outputs": []
    },
    {
      "cell_type": "code",
      "metadata": {
        "id": "PI9ouYsC8rCg"
      },
      "source": [
        "df"
      ],
      "execution_count": null,
      "outputs": []
    },
    {
      "cell_type": "code",
      "metadata": {
        "id": "9R4ZbZFa8VCc"
      },
      "source": [
        "df.apply(np.cumsum)"
      ],
      "execution_count": null,
      "outputs": []
    },
    {
      "cell_type": "code",
      "metadata": {
        "id": "eqXzw9iJ8mPX"
      },
      "source": [
        "df3 = pd.DataFrame([\n",
        "                    [1, 2, 3],\n",
        "                    [4, 5, 6]\n",
        "])\n",
        "df3"
      ],
      "execution_count": null,
      "outputs": []
    },
    {
      "cell_type": "code",
      "metadata": {
        "id": "GwZ-HhDr8_TJ"
      },
      "source": [
        "pieces = [df3[:1], df3, df3[2:]]"
      ],
      "execution_count": null,
      "outputs": []
    },
    {
      "cell_type": "code",
      "metadata": {
        "id": "2BtyNvmZ9OFp"
      },
      "source": [
        "pd.concat(pieces)"
      ],
      "execution_count": null,
      "outputs": []
    },
    {
      "cell_type": "code",
      "metadata": {
        "id": "EGK2kNx39Nul"
      },
      "source": [
        "first = pd.DataFrame({\"key\": [\"value1\", \"value2\"], \"left-val\": [1, 2]})\n",
        "second = pd.DataFrame({\"key\": [\"value1\", \"value2\"], \"right-val\": [3, 4]})\n",
        "print(first)\n",
        "print(\"#\"*20)\n",
        "print(second)"
      ],
      "execution_count": null,
      "outputs": []
    },
    {
      "cell_type": "code",
      "metadata": {
        "id": "28e4wafp9wJm"
      },
      "source": [
        "pd.merge(first, second, on=\"key\")"
      ],
      "execution_count": null,
      "outputs": []
    },
    {
      "cell_type": "code",
      "metadata": {
        "id": "8GVKPuQ597j7"
      },
      "source": [
        "df"
      ],
      "execution_count": null,
      "outputs": []
    },
    {
      "cell_type": "code",
      "metadata": {
        "id": "X9UtFZ-s-SxS"
      },
      "source": [
        "df4 = pd.DataFrame(data)\n",
        "df4"
      ],
      "execution_count": null,
      "outputs": []
    },
    {
      "cell_type": "code",
      "metadata": {
        "id": "wPrZ7xTS-vmp"
      },
      "source": [
        "data = {\n",
        "    \"isim\": [\"Ahmet\", \"Ezgi\", \"Mehmet\", \"Sevda\", \"Ezgi\"],\n",
        "    \"boy\": [180, 170, 150, 160, 150],\n",
        "    \"ayakkabi_no\": [42, 37, 39, 36, 38],\n",
        "    \"kilo\": [80, 50, 70, 50, 60]\n",
        "}\n",
        "df4 = pd.DataFrame(data)"
      ],
      "execution_count": null,
      "outputs": []
    },
    {
      "cell_type": "code",
      "metadata": {
        "id": "XHdvbXqd-VqJ"
      },
      "source": [
        "df4.groupby(\"kilo\").mean()"
      ],
      "execution_count": null,
      "outputs": []
    },
    {
      "cell_type": "code",
      "metadata": {
        "id": "LonvYDLG-poe"
      },
      "source": [
        "df4.groupby([\"boy\", \"kilo\"]).mean()"
      ],
      "execution_count": null,
      "outputs": []
    },
    {
      "cell_type": "code",
      "metadata": {
        "id": "NNDh4qAu_5Cg"
      },
      "source": [
        ""
      ],
      "execution_count": null,
      "outputs": []
    }
  ]
}