{
 "cells": [
  {
   "cell_type": "code",
   "execution_count": null,
   "metadata": {
    "id": "jRcuu1vFfMAa"
   },
   "outputs": [],
   "source": [
    "import pandas as pd\n",
    "import numpy as np"
   ]
  },
  {
   "cell_type": "code",
   "execution_count": null,
   "metadata": {
    "id": "MoP72w9efsig"
   },
   "outputs": [],
   "source": [
    "pd.Series([10, -5, 1.1, 77.7])"
   ]
  },
  {
   "cell_type": "code",
   "execution_count": null,
   "metadata": {
    "id": "kLkEKeKBfxRz"
   },
   "outputs": [],
   "source": [
    "pd.Series([10, -5, 1.1, 77.7], index=[\"Chandler\", \"Bing\", \"Bender\", \"Rodriguez\"])"
   ]
  },
  {
   "cell_type": "code",
   "execution_count": null,
   "metadata": {
    "id": "FK44L__XgJcV"
   },
   "outputs": [],
   "source": [
    "data = {\n",
    "    \"isim\": [\"Ahmet\", \"Ezgi\", \"Mehmet\", \"Sevda\"],\n",
    "    \"boy\": [180, 170, 150, np.nan],\n",
    "    \"ayakkabi_no\": [42, np.nan, 39, 36],\n",
    "    \"kilo\": [80, 50, 70, 45]\n",
    "}"
   ]
  },
  {
   "cell_type": "code",
   "execution_count": null,
   "metadata": {
    "id": "MHXDy8Ztgx7y"
   },
   "outputs": [],
   "source": [
    "from pprint import pprint\n",
    "pprint(data)"
   ]
  },
  {
   "cell_type": "code",
   "execution_count": null,
   "metadata": {
    "id": "JjD2ZJUVpkN8"
   },
   "outputs": [],
   "source": [
    "rand_numbers = np.random.random((7, 4))"
   ]
  },
  {
   "cell_type": "code",
   "execution_count": null,
   "metadata": {
    "id": "5X6falhPpIWI"
   },
   "outputs": [],
   "source": [
    "df = pd.DataFrame(rand_numbers)\n",
    "df"
   ]
  },
  {
   "cell_type": "code",
   "execution_count": null,
   "metadata": {
    "id": "KH6SlVAipWEz"
   },
   "outputs": [],
   "source": [
    "df = pd.DataFrame(rand_numbers, columns=[\"00.00\", \"06.00\", \"12.00\", \"18.00\"])\n",
    "df"
   ]
  },
  {
   "cell_type": "code",
   "execution_count": null,
   "metadata": {
    "id": "vHB5ejiOpqxe"
   },
   "outputs": [],
   "source": [
    "dates = pd.date_range(\"20210309\", periods=7)\n",
    "dates"
   ]
  },
  {
   "cell_type": "code",
   "execution_count": null,
   "metadata": {
    "id": "Fy2UCQEhp7HM"
   },
   "outputs": [],
   "source": [
    "df = pd.DataFrame(rand_numbers,\n",
    "                  index=dates,\n",
    "                  columns=[\"00.00\", \"06.00\", \"12.00\", \"18.00\"])\n",
    "df"
   ]
  },
  {
   "cell_type": "code",
   "execution_count": null,
   "metadata": {
    "id": "LxfB_teUqFLr"
   },
   "outputs": [],
   "source": [
    "df.dtypes"
   ]
  },
  {
   "cell_type": "code",
   "execution_count": null,
   "metadata": {
    "id": "ebPef6uLqX9N"
   },
   "outputs": [],
   "source": [
    "df2 = pd.DataFrame(\n",
    "    {\n",
    "        \"A\": 1.0,\n",
    "        \"B\": pd.Timestamp(\"20210309\"),\n",
    "        \"C\": pd.Series(1, index=list(range(4)), dtype=\"float32\"),\n",
    "        \"D\": np.array([3] * 4, dtype=\"int32\"),\n",
    "        \"E\": pd.Categorical([\"test\", \"train\", \"validation\", \"train\"]),\n",
    "        \"F\": \"foo\",\n",
    "    }\n",
    ")\n",
    "df2"
   ]
  },
  {
   "cell_type": "code",
   "execution_count": null,
   "metadata": {
    "id": "u0Edqed8qeow"
   },
   "outputs": [],
   "source": [
    "df2.dtypes"
   ]
  },
  {
   "cell_type": "code",
   "execution_count": null,
   "metadata": {
    "id": "kpN2gP7eq_-D"
   },
   "outputs": [],
   "source": [
    "df.head()"
   ]
  },
  {
   "cell_type": "code",
   "execution_count": null,
   "metadata": {
    "id": "VcP2u-sfrQhz"
   },
   "outputs": [],
   "source": [
    "df.head(2)"
   ]
  },
  {
   "cell_type": "code",
   "execution_count": null,
   "metadata": {
    "id": "B2lYuii_rSSj"
   },
   "outputs": [],
   "source": [
    "df.tail()"
   ]
  },
  {
   "cell_type": "code",
   "execution_count": null,
   "metadata": {
    "id": "9jgbP7m1rTQe"
   },
   "outputs": [],
   "source": [
    "df.tail(2)"
   ]
  },
  {
   "cell_type": "code",
   "execution_count": null,
   "metadata": {
    "id": "dpA6VYH2rWYU"
   },
   "outputs": [],
   "source": [
    "df.index"
   ]
  },
  {
   "cell_type": "code",
   "execution_count": null,
   "metadata": {
    "id": "8qr3a7cYrcyP"
   },
   "outputs": [],
   "source": [
    "df.columns"
   ]
  },
  {
   "cell_type": "code",
   "execution_count": null,
   "metadata": {
    "id": "jIUokJpcrpmk"
   },
   "outputs": [],
   "source": [
    "df.to_numpy()"
   ]
  },
  {
   "cell_type": "code",
   "execution_count": null,
   "metadata": {
    "id": "wHFAufNcrt7Y"
   },
   "outputs": [],
   "source": [
    "df.describe()"
   ]
  },
  {
   "cell_type": "code",
   "execution_count": null,
   "metadata": {
    "id": "V7q9to9Wrzay"
   },
   "outputs": [],
   "source": [
    "arr = np.array([1, 2, 3, 4, 5, 6]).reshape(2, 3)\n",
    "arr.T"
   ]
  },
  {
   "cell_type": "code",
   "execution_count": null,
   "metadata": {
    "id": "mdXdMea_sz09"
   },
   "outputs": [],
   "source": [
    "df.sort_index(axis=0, ascending=False)"
   ]
  },
  {
   "cell_type": "code",
   "execution_count": null,
   "metadata": {
    "id": "-ivAIjDXwrbG"
   },
   "outputs": [],
   "source": [
    "df.sort_index(axis=1, ascending=False)"
   ]
  },
  {
   "cell_type": "code",
   "execution_count": null,
   "metadata": {
    "id": "Jl_zOltLw2eb"
   },
   "outputs": [],
   "source": [
    "df.sort_values(by=\"06.00\")"
   ]
  },
  {
   "cell_type": "code",
   "execution_count": null,
   "metadata": {
    "id": "6wSO73oPxIj2"
   },
   "outputs": [],
   "source": [
    "df[\"06.00\"]"
   ]
  },
  {
   "cell_type": "code",
   "execution_count": null,
   "metadata": {
    "id": "KHFkWc9KyyKB"
   },
   "outputs": [],
   "source": [
    "df[0: 3]"
   ]
  },
  {
   "cell_type": "code",
   "execution_count": null,
   "metadata": {
    "id": "BAL1oAvszViH"
   },
   "outputs": [],
   "source": [
    "df[0,:]"
   ]
  },
  {
   "cell_type": "code",
   "execution_count": null,
   "metadata": {
    "id": "UAjWcveEy2SD"
   },
   "outputs": [],
   "source": [
    "dates[0]"
   ]
  },
  {
   "cell_type": "code",
   "execution_count": null,
   "metadata": {
    "id": "asO0mMr1zRmV"
   },
   "outputs": [],
   "source": [
    "df.loc[dates[0]]"
   ]
  },
  {
   "cell_type": "code",
   "execution_count": null,
   "metadata": {
    "id": "w6Fu4GVGzhyV"
   },
   "outputs": [],
   "source": [
    "df.loc[\"20210312\": \"20210314\", [\"00.00\", \"18.00\"]]"
   ]
  },
  {
   "cell_type": "code",
   "execution_count": null,
   "metadata": {
    "id": "W7YFYuo33IO6"
   },
   "outputs": [],
   "source": [
    "import time"
   ]
  },
  {
   "cell_type": "code",
   "execution_count": null,
   "metadata": {
    "id": "3MkZ765WzoIz"
   },
   "outputs": [],
   "source": [
    "start = time.time()\n",
    "print(\"Değer:\", df.loc[\"2021-03-14\", \"00.00\"])\n",
    "print(time.time()-start)"
   ]
  },
  {
   "cell_type": "code",
   "execution_count": null,
   "metadata": {
    "id": "75jgmbYW28A4"
   },
   "outputs": [],
   "source": [
    "start = time.time()\n",
    "print(\"Değer:\", df.at[\"2021-03-14\", \"00.00\"])\n",
    "print(time.time()-start)"
   ]
  },
  {
   "cell_type": "code",
   "execution_count": null,
   "metadata": {
    "id": "wX4JNClP3HWG"
   },
   "outputs": [],
   "source": [
    "df.iloc[0:4, 0:2]"
   ]
  },
  {
   "cell_type": "code",
   "execution_count": null,
   "metadata": {
    "id": "Doa7u7By3yL_"
   },
   "outputs": [],
   "source": [
    "df.iloc[[0, 2, 4], [2, 3]]"
   ]
  },
  {
   "cell_type": "code",
   "execution_count": null,
   "metadata": {
    "id": "3YMlqQuh35iN"
   },
   "outputs": [],
   "source": [
    "df[df[\"12.00\"] > 0.5]"
   ]
  },
  {
   "cell_type": "code",
   "execution_count": null,
   "metadata": {
    "id": "vpMNP8Nn4EXA"
   },
   "outputs": [],
   "source": [
    "df2 = df"
   ]
  },
  {
   "cell_type": "code",
   "execution_count": null,
   "metadata": {
    "id": "UPI3wjDp4VoO"
   },
   "outputs": [],
   "source": [
    "print(df2.iloc[0, 0])\n",
    "df2.iloc[0, 0] = \"HAHA\""
   ]
  },
  {
   "cell_type": "code",
   "execution_count": null,
   "metadata": {
    "id": "bkIWDxr74YNn"
   },
   "outputs": [],
   "source": [
    "df2"
   ]
  },
  {
   "cell_type": "code",
   "execution_count": null,
   "metadata": {
    "id": "EbS1iD4h4Y7R"
   },
   "outputs": [],
   "source": [
    "df"
   ]
  },
  {
   "cell_type": "code",
   "execution_count": null,
   "metadata": {
    "id": "p1XxOwHX4aBG"
   },
   "outputs": [],
   "source": [
    "df.loc[\"2021-03-13\": \"2021-03-14\", \"06.00\": \"12.00\"] = np.nan\n",
    "df"
   ]
  },
  {
   "cell_type": "code",
   "execution_count": null,
   "metadata": {
    "id": "-HSI-Gp-5XNv"
   },
   "outputs": [],
   "source": [
    "df.dropna(how=\"any\")"
   ]
  },
  {
   "cell_type": "code",
   "execution_count": null,
   "metadata": {
    "id": "bc68hLAr60S8"
   },
   "outputs": [],
   "source": [
    "df"
   ]
  },
  {
   "cell_type": "code",
   "execution_count": null,
   "metadata": {
    "id": "1Vcnosw768oj"
   },
   "outputs": [],
   "source": [
    "df.dropna(how=\"all\", axis=1)"
   ]
  },
  {
   "cell_type": "code",
   "execution_count": null,
   "metadata": {
    "id": "y41dLVYC61la"
   },
   "outputs": [],
   "source": [
    "df.fillna(value=0)"
   ]
  },
  {
   "cell_type": "code",
   "execution_count": null,
   "metadata": {
    "id": "Y_RDHY1C7J-Z"
   },
   "outputs": [],
   "source": [
    "df"
   ]
  },
  {
   "cell_type": "code",
   "execution_count": null,
   "metadata": {
    "id": "IWn3ySSA7O1A"
   },
   "outputs": [],
   "source": [
    "df.isna()"
   ]
  },
  {
   "cell_type": "code",
   "execution_count": null,
   "metadata": {
    "id": "YB3DIqH57Z0o"
   },
   "outputs": [],
   "source": [
    "df.mean()"
   ]
  },
  {
   "cell_type": "code",
   "execution_count": null,
   "metadata": {
    "id": "wDasR2SD7tH_"
   },
   "outputs": [],
   "source": [
    "df.mean(axis=1)"
   ]
  },
  {
   "cell_type": "code",
   "execution_count": null,
   "metadata": {
    "id": "KobD_f8V73p1"
   },
   "outputs": [],
   "source": [
    "df.apply(lambda x: x.max())"
   ]
  },
  {
   "cell_type": "code",
   "execution_count": null,
   "metadata": {
    "id": "EAN61Cwq8RP9"
   },
   "outputs": [],
   "source": [
    "df.apply(lambda x: x.sum(), axis=1)"
   ]
  },
  {
   "cell_type": "code",
   "execution_count": null,
   "metadata": {
    "id": "PI9ouYsC8rCg"
   },
   "outputs": [],
   "source": [
    "df"
   ]
  },
  {
   "cell_type": "code",
   "execution_count": null,
   "metadata": {
    "id": "9R4ZbZFa8VCc"
   },
   "outputs": [],
   "source": [
    "df.apply(np.cumsum)"
   ]
  },
  {
   "cell_type": "code",
   "execution_count": null,
   "metadata": {
    "id": "eqXzw9iJ8mPX"
   },
   "outputs": [],
   "source": [
    "df3 = pd.DataFrame([\n",
    "                    [1, 2, 3],\n",
    "                    [4, 5, 6]\n",
    "])\n",
    "df3"
   ]
  },
  {
   "cell_type": "code",
   "execution_count": null,
   "metadata": {
    "id": "GwZ-HhDr8_TJ"
   },
   "outputs": [],
   "source": [
    "pieces = [df3[:1], df3, df3[2:]]"
   ]
  },
  {
   "cell_type": "code",
   "execution_count": null,
   "metadata": {
    "id": "2BtyNvmZ9OFp"
   },
   "outputs": [],
   "source": [
    "pd.concat(pieces)"
   ]
  },
  {
   "cell_type": "code",
   "execution_count": null,
   "metadata": {
    "id": "EGK2kNx39Nul"
   },
   "outputs": [],
   "source": [
    "first = pd.DataFrame({\"key\": [\"value1\", \"value2\"], \"left-val\": [1, 2]})\n",
    "second = pd.DataFrame({\"key\": [\"value1\", \"value2\"], \"right-val\": [3, 4]})\n",
    "print(first)\n",
    "print(\"#\"*20)\n",
    "print(second)"
   ]
  },
  {
   "cell_type": "code",
   "execution_count": null,
   "metadata": {
    "id": "28e4wafp9wJm"
   },
   "outputs": [],
   "source": [
    "pd.merge(first, second, on=\"key\")"
   ]
  },
  {
   "cell_type": "code",
   "execution_count": null,
   "metadata": {
    "id": "8GVKPuQ597j7"
   },
   "outputs": [],
   "source": [
    "df"
   ]
  },
  {
   "cell_type": "code",
   "execution_count": null,
   "metadata": {
    "id": "X9UtFZ-s-SxS"
   },
   "outputs": [],
   "source": [
    "df4 = pd.DataFrame(data)\n",
    "df4"
   ]
  },
  {
   "cell_type": "code",
   "execution_count": null,
   "metadata": {
    "id": "wPrZ7xTS-vmp"
   },
   "outputs": [],
   "source": [
    "data = {\n",
    "    \"isim\": [\"Ahmet\", \"Ezgi\", \"Mehmet\", \"Sevda\", \"Ezgi\"],\n",
    "    \"boy\": [180, 170, 150, 160, 150],\n",
    "    \"ayakkabi_no\": [42, 37, 39, 36, 38],\n",
    "    \"kilo\": [80, 50, 70, 50, 60]\n",
    "}\n",
    "df4 = pd.DataFrame(data)"
   ]
  },
  {
   "cell_type": "code",
   "execution_count": null,
   "metadata": {
    "id": "XHdvbXqd-VqJ"
   },
   "outputs": [],
   "source": [
    "df4.groupby(\"kilo\").mean()"
   ]
  },
  {
   "cell_type": "code",
   "execution_count": null,
   "metadata": {
    "id": "LonvYDLG-poe"
   },
   "outputs": [],
   "source": [
    "df4.groupby([\"boy\", \"kilo\"]).mean()"
   ]
  },
  {
   "cell_type": "code",
   "execution_count": null,
   "metadata": {
    "id": "NNDh4qAu_5Cg"
   },
   "outputs": [],
   "source": []
  }
 ],
 "metadata": {
  "colab": {
   "authorship_tag": "ABX9TyMJx4G5YLLduCNOMqmklF/8",
   "collapsed_sections": [],
   "include_colab_link": true,
   "name": "pandas_library.ipynb",
   "provenance": []
  },
  "kernelspec": {
   "display_name": "Python 3",
   "language": "python",
   "name": "python3"
  },
  "language_info": {
   "codemirror_mode": {
    "name": "ipython",
    "version": 3
   },
   "file_extension": ".py",
   "mimetype": "text/x-python",
   "name": "python",
   "nbconvert_exporter": "python",
   "pygments_lexer": "ipython3",
   "version": "3.8.5"
  }
 },
 "nbformat": 4,
 "nbformat_minor": 1
}
