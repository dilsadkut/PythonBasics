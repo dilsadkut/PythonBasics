{
 "cells": [
  {
   "cell_type": "markdown",
   "id": "passing-judge",
   "metadata": {},
   "source": [
    "# Numpy\n",
    "![Scalar Vector Matrix Tensor](https://res.cloudinary.com/practicaldev/image/fetch/s--oTgfo1EL--/c_limit%2Cf_auto%2Cfl_progressive%2Cq_auto%2Cw_880/https://raw.githubusercontent.com/adhiraiyan/DeepLearningWithTF2.0/master/notebooks/figures/fig0201a.png)\n",
    "\n",
    "credit: https://res.cloudinary.com/"
   ]
  },
  {
   "cell_type": "code",
   "execution_count": 1,
   "id": "starting-pickup",
   "metadata": {},
   "outputs": [],
   "source": [
    "import numpy as np"
   ]
  },
  {
   "cell_type": "code",
   "execution_count": 2,
   "id": "minus-harmony",
   "metadata": {},
   "outputs": [
    {
     "name": "stdout",
     "output_type": "stream",
     "text": [
      "[1, 2, 3, 4, 5, 6]\n"
     ]
    }
   ],
   "source": [
    "numbers_list = [1, 2, 3, 4, 5, 6]\n",
    "print(numbers_list)"
   ]
  },
  {
   "cell_type": "code",
   "execution_count": 3,
   "id": "global-renewal",
   "metadata": {},
   "outputs": [
    {
     "name": "stdout",
     "output_type": "stream",
     "text": [
      "(1, 2, 3, 4, 5, 6)\n"
     ]
    }
   ],
   "source": [
    "numbers_tuple = tuple([1, 2, 3, 4, 5, 6])\n",
    "print(numbers_tuple)"
   ]
  },
  {
   "cell_type": "code",
   "execution_count": 4,
   "id": "compact-michael",
   "metadata": {},
   "outputs": [
    {
     "ename": "TypeError",
     "evalue": "array() takes from 1 to 2 positional arguments but 6 were given",
     "output_type": "error",
     "traceback": [
      "\u001b[0;31m---------------------------------------------------------------------------\u001b[0m",
      "\u001b[0;31mTypeError\u001b[0m                                 Traceback (most recent call last)",
      "\u001b[0;32m<ipython-input-4-9b40229042e4>\u001b[0m in \u001b[0;36m<module>\u001b[0;34m\u001b[0m\n\u001b[0;32m----> 1\u001b[0;31m \u001b[0mnumbers_arr\u001b[0m \u001b[0;34m=\u001b[0m \u001b[0mnp\u001b[0m\u001b[0;34m.\u001b[0m\u001b[0marray\u001b[0m\u001b[0;34m(\u001b[0m\u001b[0;36m1\u001b[0m\u001b[0;34m,\u001b[0m \u001b[0;36m2\u001b[0m\u001b[0;34m,\u001b[0m \u001b[0;36m3\u001b[0m\u001b[0;34m,\u001b[0m \u001b[0;36m4\u001b[0m\u001b[0;34m,\u001b[0m \u001b[0;36m5\u001b[0m\u001b[0;34m,\u001b[0m \u001b[0;36m6\u001b[0m\u001b[0;34m)\u001b[0m\u001b[0;34m\u001b[0m\u001b[0;34m\u001b[0m\u001b[0m\n\u001b[0m",
      "\u001b[0;31mTypeError\u001b[0m: array() takes from 1 to 2 positional arguments but 6 were given"
     ]
    }
   ],
   "source": [
    "numbers_arr = np.array(1, 2, 3, 4, 5, 6)"
   ]
  },
  {
   "cell_type": "code",
   "execution_count": null,
   "id": "light-representation",
   "metadata": {},
   "outputs": [],
   "source": [
    "help(np.array)"
   ]
  },
  {
   "cell_type": "code",
   "execution_count": 134,
   "id": "eleven-projector",
   "metadata": {},
   "outputs": [
    {
     "data": {
      "text/plain": [
       "array([ 3,  6,  9, 12, 15])"
      ]
     },
     "execution_count": 134,
     "metadata": {},
     "output_type": "execute_result"
    }
   ],
   "source": [
    "np.array([1, 2, 3, 4, 5]) * 3"
   ]
  },
  {
   "cell_type": "code",
   "execution_count": 11,
   "id": "completed-token",
   "metadata": {},
   "outputs": [
    {
     "ename": "ValueError",
     "evalue": "invalid literal for int() with base 10: 'ahmet'",
     "output_type": "error",
     "traceback": [
      "\u001b[0;31m---------------------------------------------------------------------------\u001b[0m",
      "\u001b[0;31mValueError\u001b[0m                                Traceback (most recent call last)",
      "\u001b[0;32m<ipython-input-11-136791f09dae>\u001b[0m in \u001b[0;36m<module>\u001b[0;34m\u001b[0m\n\u001b[0;32m----> 1\u001b[0;31m \u001b[0mnumbers_arr\u001b[0m \u001b[0;34m=\u001b[0m \u001b[0mnp\u001b[0m\u001b[0;34m.\u001b[0m\u001b[0marray\u001b[0m\u001b[0;34m(\u001b[0m\u001b[0;34m[\u001b[0m\u001b[0;36m1\u001b[0m\u001b[0;34m,\u001b[0m \u001b[0;36m2\u001b[0m\u001b[0;34m,\u001b[0m \u001b[0;34m\"ahmet\"\u001b[0m\u001b[0;34m,\u001b[0m \u001b[0;36m4.0\u001b[0m\u001b[0;34m,\u001b[0m \u001b[0;36m5\u001b[0m\u001b[0;34m,\u001b[0m \u001b[0;36m6\u001b[0m\u001b[0;34m]\u001b[0m\u001b[0;34m,\u001b[0m \u001b[0mnp\u001b[0m\u001b[0;34m.\u001b[0m\u001b[0mint\u001b[0m\u001b[0;34m)\u001b[0m\u001b[0;34m\u001b[0m\u001b[0;34m\u001b[0m\u001b[0m\n\u001b[0m\u001b[1;32m      2\u001b[0m \u001b[0mprint\u001b[0m\u001b[0;34m(\u001b[0m\u001b[0mnumbers_arr\u001b[0m\u001b[0;34m)\u001b[0m\u001b[0;34m\u001b[0m\u001b[0;34m\u001b[0m\u001b[0m\n",
      "\u001b[0;31mValueError\u001b[0m: invalid literal for int() with base 10: 'ahmet'"
     ]
    }
   ],
   "source": [
    "numbers_arr = np.array([1, 2, \"ahmet\", 4.0, 5, 6], np.int)\n",
    "print(numbers_arr)"
   ]
  },
  {
   "cell_type": "code",
   "execution_count": 12,
   "id": "champion-recommendation",
   "metadata": {},
   "outputs": [
    {
     "name": "stdout",
     "output_type": "stream",
     "text": [
      "<class 'numpy.ndarray'>\n",
      "<class 'numpy.int64'>\n"
     ]
    }
   ],
   "source": [
    "print(type(numbers_arr))\n",
    "print(type(numbers_arr[0]))"
   ]
  },
  {
   "cell_type": "code",
   "execution_count": 19,
   "id": "featured-doctor",
   "metadata": {},
   "outputs": [
    {
     "ename": "TypeError",
     "evalue": "unsupported operand type(s) for /: 'list' and 'int'",
     "output_type": "error",
     "traceback": [
      "\u001b[0;31m---------------------------------------------------------------------------\u001b[0m",
      "\u001b[0;31mTypeError\u001b[0m                                 Traceback (most recent call last)",
      "\u001b[0;32m<ipython-input-19-82e3b356ac5c>\u001b[0m in \u001b[0;36m<module>\u001b[0;34m\u001b[0m\n\u001b[0;32m----> 1\u001b[0;31m \u001b[0mnumbers_list\u001b[0m \u001b[0;34m/\u001b[0m \u001b[0;36m2\u001b[0m\u001b[0;34m\u001b[0m\u001b[0;34m\u001b[0m\u001b[0m\n\u001b[0m",
      "\u001b[0;31mTypeError\u001b[0m: unsupported operand type(s) for /: 'list' and 'int'"
     ]
    }
   ],
   "source": [
    "numbers_list / 2"
   ]
  },
  {
   "cell_type": "code",
   "execution_count": 13,
   "id": "heard-shakespeare",
   "metadata": {},
   "outputs": [
    {
     "name": "stdout",
     "output_type": "stream",
     "text": [
      "Before: 1\n",
      "After: 2\n"
     ]
    }
   ],
   "source": [
    "print(f\"Before: {numbers_list[0]}\")\n",
    "numbers_list[0] = numbers_list[0] / 2\n",
    "print(f\"After: {numbers_list[0]}\")"
   ]
  },
  {
   "cell_type": "code",
   "execution_count": 15,
   "id": "environmental-kernel",
   "metadata": {},
   "outputs": [
    {
     "data": {
      "text/plain": [
       "array([0.5, 1. , 1.5, 2. , 2.5, 3. ])"
      ]
     },
     "execution_count": 15,
     "metadata": {},
     "output_type": "execute_result"
    }
   ],
   "source": [
    "numbers_arr / 2"
   ]
  },
  {
   "cell_type": "code",
   "execution_count": 20,
   "id": "brutal-government",
   "metadata": {},
   "outputs": [
    {
     "data": {
      "text/plain": [
       "(6,)"
      ]
     },
     "execution_count": 20,
     "metadata": {},
     "output_type": "execute_result"
    }
   ],
   "source": [
    "numbers_arr.shape"
   ]
  },
  {
   "cell_type": "code",
   "execution_count": 136,
   "id": "opposed-greene",
   "metadata": {},
   "outputs": [
    {
     "name": "stdout",
     "output_type": "stream",
     "text": [
      "(5, 2)\n"
     ]
    }
   ],
   "source": [
    "numbers_arr = numbers_arr.reshape(1, 6)\n",
    "numbers_arr.shape"
   ]
  },
  {
   "cell_type": "code",
   "execution_count": 27,
   "id": "comparable-witness",
   "metadata": {},
   "outputs": [
    {
     "data": {
      "text/plain": [
       "array([[1, 2, 3, 4, 5, 6]])"
      ]
     },
     "execution_count": 27,
     "metadata": {},
     "output_type": "execute_result"
    }
   ],
   "source": [
    "numbers_arr"
   ]
  },
  {
   "cell_type": "markdown",
   "id": "surprised-publicity",
   "metadata": {},
   "source": [
    "### Most Used Methods (En Çok Kullanılan Metotlar)"
   ]
  },
  {
   "cell_type": "code",
   "execution_count": 28,
   "id": "classical-prevention",
   "metadata": {},
   "outputs": [
    {
     "data": {
      "text/plain": [
       "array([[ 0.84147098,  0.90929743,  0.14112001, -0.7568025 , -0.95892427,\n",
       "        -0.2794155 ]])"
      ]
     },
     "execution_count": 28,
     "metadata": {},
     "output_type": "execute_result"
    }
   ],
   "source": [
    "np.sin(numbers_arr)"
   ]
  },
  {
   "cell_type": "code",
   "execution_count": 29,
   "id": "certain-wilderness",
   "metadata": {},
   "outputs": [
    {
     "data": {
      "text/plain": [
       "array([[ 0.54030231, -0.41614684, -0.9899925 , -0.65364362,  0.28366219,\n",
       "         0.96017029]])"
      ]
     },
     "execution_count": 29,
     "metadata": {},
     "output_type": "execute_result"
    }
   ],
   "source": [
    "np.cos(numbers_arr)"
   ]
  },
  {
   "cell_type": "code",
   "execution_count": 30,
   "id": "informational-trouble",
   "metadata": {},
   "outputs": [
    {
     "data": {
      "text/plain": [
       "array([[0.        , 0.69314718, 1.09861229, 1.38629436, 1.60943791,\n",
       "        1.79175947]])"
      ]
     },
     "execution_count": 30,
     "metadata": {},
     "output_type": "execute_result"
    }
   ],
   "source": [
    "np.log(numbers_arr)"
   ]
  },
  {
   "cell_type": "code",
   "execution_count": 31,
   "id": "covered-study",
   "metadata": {},
   "outputs": [
    {
     "data": {
      "text/plain": [
       "array([[  2.71828183,   7.3890561 ,  20.08553692,  54.59815003,\n",
       "        148.4131591 , 403.42879349]])"
      ]
     },
     "execution_count": 31,
     "metadata": {},
     "output_type": "execute_result"
    }
   ],
   "source": [
    "np.exp(numbers_arr) # e^x , 2.718281"
   ]
  },
  {
   "cell_type": "code",
   "execution_count": 33,
   "id": "warming-diversity",
   "metadata": {},
   "outputs": [
    {
     "data": {
      "text/plain": [
       "6"
      ]
     },
     "execution_count": 33,
     "metadata": {},
     "output_type": "execute_result"
    }
   ],
   "source": [
    "np.max(numbers_arr)"
   ]
  },
  {
   "cell_type": "code",
   "execution_count": 34,
   "id": "expanded-ranking",
   "metadata": {},
   "outputs": [
    {
     "data": {
      "text/plain": [
       "5"
      ]
     },
     "execution_count": 34,
     "metadata": {},
     "output_type": "execute_result"
    }
   ],
   "source": [
    "np.argmax(numbers_arr)"
   ]
  },
  {
   "cell_type": "code",
   "execution_count": 35,
   "id": "sexual-balance",
   "metadata": {},
   "outputs": [
    {
     "data": {
      "text/plain": [
       "1"
      ]
     },
     "execution_count": 35,
     "metadata": {},
     "output_type": "execute_result"
    }
   ],
   "source": [
    "np.min(numbers_arr)"
   ]
  },
  {
   "cell_type": "code",
   "execution_count": 36,
   "id": "empirical-seeker",
   "metadata": {},
   "outputs": [
    {
     "data": {
      "text/plain": [
       "0"
      ]
     },
     "execution_count": 36,
     "metadata": {},
     "output_type": "execute_result"
    }
   ],
   "source": [
    "np.argmin(numbers_arr)"
   ]
  },
  {
   "cell_type": "code",
   "execution_count": 53,
   "id": "coupled-laser",
   "metadata": {},
   "outputs": [
    {
     "ename": "AttributeError",
     "evalue": "'numpy.ndarray' object has no attribute 'exp'",
     "output_type": "error",
     "traceback": [
      "\u001b[0;31m---------------------------------------------------------------------------\u001b[0m",
      "\u001b[0;31mAttributeError\u001b[0m                            Traceback (most recent call last)",
      "\u001b[0;32m<ipython-input-53-2d8192aae21c>\u001b[0m in \u001b[0;36m<module>\u001b[0;34m\u001b[0m\n\u001b[0;32m----> 1\u001b[0;31m \u001b[0mnumbers_arr\u001b[0m\u001b[0;34m.\u001b[0m\u001b[0mexp\u001b[0m\u001b[0;34m(\u001b[0m\u001b[0;34m)\u001b[0m\u001b[0;34m\u001b[0m\u001b[0;34m\u001b[0m\u001b[0m\n\u001b[0m",
      "\u001b[0;31mAttributeError\u001b[0m: 'numpy.ndarray' object has no attribute 'exp'"
     ]
    }
   ],
   "source": [
    "numbers_arr.exp()"
   ]
  },
  {
   "cell_type": "code",
   "execution_count": 43,
   "id": "enhanced-impossible",
   "metadata": {},
   "outputs": [
    {
     "data": {
      "text/plain": [
       "3.5"
      ]
     },
     "execution_count": 43,
     "metadata": {},
     "output_type": "execute_result"
    }
   ],
   "source": [
    "numbers_arr.sum()/numbers_arr.size"
   ]
  },
  {
   "cell_type": "code",
   "execution_count": 37,
   "id": "technological-address",
   "metadata": {},
   "outputs": [
    {
     "data": {
      "text/plain": [
       "3.5"
      ]
     },
     "execution_count": 37,
     "metadata": {},
     "output_type": "execute_result"
    }
   ],
   "source": [
    "np.mean(numbers_arr)"
   ]
  },
  {
   "cell_type": "code",
   "execution_count": 54,
   "id": "african-payday",
   "metadata": {},
   "outputs": [
    {
     "data": {
      "text/plain": [
       "1.707825127659933"
      ]
     },
     "execution_count": 54,
     "metadata": {},
     "output_type": "execute_result"
    }
   ],
   "source": [
    "np.std(numbers_arr)"
   ]
  },
  {
   "cell_type": "code",
   "execution_count": 55,
   "id": "martial-fellow",
   "metadata": {},
   "outputs": [
    {
     "name": "stdout",
     "output_type": "stream",
     "text": [
      "[[1 2 3]\n",
      " [4 5 6]]\n"
     ]
    }
   ],
   "source": [
    "numbers_arr = numbers_arr.reshape(2, 3)\n",
    "print(numbers_arr)"
   ]
  },
  {
   "cell_type": "code",
   "execution_count": 57,
   "id": "significant-ready",
   "metadata": {},
   "outputs": [
    {
     "data": {
      "text/plain": [
       "array([ 6, 15])"
      ]
     },
     "execution_count": 57,
     "metadata": {},
     "output_type": "execute_result"
    }
   ],
   "source": [
    "# axis=1 => Row\n",
    "# axis=0 => Column\n",
    "np.sum(numbers_arr, axis=1)"
   ]
  },
  {
   "cell_type": "code",
   "execution_count": 58,
   "id": "practical-seeking",
   "metadata": {},
   "outputs": [
    {
     "name": "stdout",
     "output_type": "stream",
     "text": [
      "[[0. 0. 0.]\n",
      " [0. 0. 0.]\n",
      " [0. 0. 0.]]\n"
     ]
    }
   ],
   "source": [
    "zeros = np.zeros((3, 3))\n",
    "print(zeros)"
   ]
  },
  {
   "cell_type": "code",
   "execution_count": 59,
   "id": "perceived-islam",
   "metadata": {},
   "outputs": [
    {
     "name": "stdout",
     "output_type": "stream",
     "text": [
      "[[1. 1. 1.]\n",
      " [1. 1. 1.]\n",
      " [1. 1. 1.]]\n"
     ]
    }
   ],
   "source": [
    "ones = np.ones((3, 3))\n",
    "print(ones)"
   ]
  },
  {
   "cell_type": "code",
   "execution_count": null,
   "id": "interracial-composite",
   "metadata": {},
   "outputs": [],
   "source": [
    "ones - 1"
   ]
  },
  {
   "cell_type": "code",
   "execution_count": null,
   "id": "macro-pearl",
   "metadata": {},
   "outputs": [],
   "source": [
    "zeros + 1"
   ]
  },
  {
   "cell_type": "code",
   "execution_count": 61,
   "id": "protecting-essence",
   "metadata": {},
   "outputs": [
    {
     "data": {
      "text/plain": [
       "array([[1., 0., 0.],\n",
       "       [0., 1., 0.],\n",
       "       [0., 0., 1.]])"
      ]
     },
     "execution_count": 61,
     "metadata": {},
     "output_type": "execute_result"
    }
   ],
   "source": [
    "# Identity matrix\n",
    "# Birim matris\n",
    "eye = np.eye(3)\n",
    "eye"
   ]
  },
  {
   "cell_type": "code",
   "execution_count": 67,
   "id": "detailed-regulation",
   "metadata": {},
   "outputs": [
    {
     "data": {
      "text/plain": [
       "array([1., 1., 1.])"
      ]
     },
     "execution_count": 67,
     "metadata": {},
     "output_type": "execute_result"
    }
   ],
   "source": [
    "eye.diagonal()"
   ]
  },
  {
   "cell_type": "code",
   "execution_count": 66,
   "id": "demonstrated-bumper",
   "metadata": {},
   "outputs": [
    {
     "data": {
      "text/plain": [
       "array([1., 1., 1.])"
      ]
     },
     "execution_count": 66,
     "metadata": {},
     "output_type": "execute_result"
    }
   ],
   "source": [
    "np.diag(eye)"
   ]
  },
  {
   "cell_type": "code",
   "execution_count": 104,
   "id": "emotional-fields",
   "metadata": {},
   "outputs": [
    {
     "data": {
      "text/plain": [
       "array([[0.07613947, 0.73788444, 0.7380232 ],\n",
       "       [0.16279258, 0.36510622, 0.82936331],\n",
       "       [0.84875315, 0.04818923, 0.9778784 ]])"
      ]
     },
     "execution_count": 104,
     "metadata": {},
     "output_type": "execute_result"
    }
   ],
   "source": [
    "np.random.random((3, 3))"
   ]
  },
  {
   "cell_type": "markdown",
   "id": "architectural-essence",
   "metadata": {},
   "source": [
    "### Slicing & Indexing (Dilimleme && İndisleme)"
   ]
  },
  {
   "cell_type": "code",
   "execution_count": 105,
   "id": "plastic-holder",
   "metadata": {},
   "outputs": [
    {
     "data": {
      "text/plain": [
       "array([[1, 2, 3],\n",
       "       [4, 5, 6]])"
      ]
     },
     "execution_count": 105,
     "metadata": {},
     "output_type": "execute_result"
    }
   ],
   "source": [
    "numbers_arr"
   ]
  },
  {
   "cell_type": "code",
   "execution_count": 106,
   "id": "comfortable-activation",
   "metadata": {},
   "outputs": [
    {
     "data": {
      "text/plain": [
       "array([1, 2, 3])"
      ]
     },
     "execution_count": 106,
     "metadata": {},
     "output_type": "execute_result"
    }
   ],
   "source": [
    "numbers_arr[0]"
   ]
  },
  {
   "cell_type": "code",
   "execution_count": 110,
   "id": "geological-fight",
   "metadata": {},
   "outputs": [
    {
     "data": {
      "text/plain": [
       "array([1, 4])"
      ]
     },
     "execution_count": 110,
     "metadata": {},
     "output_type": "execute_result"
    }
   ],
   "source": [
    "# Ellipsis or :\n",
    "numbers_arr[:, 0]"
   ]
  },
  {
   "cell_type": "code",
   "execution_count": 111,
   "id": "plastic-fluid",
   "metadata": {},
   "outputs": [
    {
     "data": {
      "text/plain": [
       "array([[1, 3],\n",
       "       [4, 6]])"
      ]
     },
     "execution_count": 111,
     "metadata": {},
     "output_type": "execute_result"
    }
   ],
   "source": [
    "numbers_arr[:, 0: 3: 2]"
   ]
  },
  {
   "cell_type": "code",
   "execution_count": 112,
   "id": "southeast-needle",
   "metadata": {},
   "outputs": [
    {
     "name": "stdout",
     "output_type": "stream",
     "text": [
      "4\n",
      "2\n"
     ]
    }
   ],
   "source": [
    "print(numbers_arr[1, 0])\n",
    "print(numbers_arr[0, 1])"
   ]
  },
  {
   "cell_type": "code",
   "execution_count": 113,
   "id": "developed-machine",
   "metadata": {},
   "outputs": [
    {
     "data": {
      "text/plain": [
       "array([[False, False,  True],\n",
       "       [ True,  True,  True]])"
      ]
     },
     "execution_count": 113,
     "metadata": {},
     "output_type": "execute_result"
    }
   ],
   "source": [
    "numbers_arr > 2"
   ]
  },
  {
   "cell_type": "code",
   "execution_count": 114,
   "id": "fitted-biodiversity",
   "metadata": {},
   "outputs": [
    {
     "data": {
      "text/plain": [
       "array([3, 4, 5, 6])"
      ]
     },
     "execution_count": 114,
     "metadata": {},
     "output_type": "execute_result"
    }
   ],
   "source": [
    "numbers_arr[numbers_arr > 2]"
   ]
  },
  {
   "cell_type": "code",
   "execution_count": 118,
   "id": "assisted-camcorder",
   "metadata": {},
   "outputs": [],
   "source": [
    "# 3 index:\n",
    "# 4 index:\n",
    "# 5 index:\n",
    "# 6 index: \n",
    "idx = np.where(numbers_arr > 2)"
   ]
  },
  {
   "cell_type": "code",
   "execution_count": 119,
   "id": "universal-queens",
   "metadata": {},
   "outputs": [
    {
     "data": {
      "text/plain": [
       "array([3, 4, 5, 6])"
      ]
     },
     "execution_count": 119,
     "metadata": {},
     "output_type": "execute_result"
    }
   ],
   "source": [
    "numbers_arr[idx]"
   ]
  },
  {
   "cell_type": "code",
   "execution_count": 120,
   "id": "lined-recycling",
   "metadata": {},
   "outputs": [
    {
     "name": "stdout",
     "output_type": "stream",
     "text": [
      "[[3. 2. 2.]\n",
      " [2. 3. 2.]\n",
      " [2. 2. 3.]]\n"
     ]
    }
   ],
   "source": [
    "eye = np.eye(3)\n",
    "eye = eye + 2\n",
    "print(eye)"
   ]
  },
  {
   "cell_type": "code",
   "execution_count": 124,
   "id": "final-honor",
   "metadata": {},
   "outputs": [
    {
     "data": {
      "text/plain": [
       "7.000000000000001"
      ]
     },
     "execution_count": 124,
     "metadata": {},
     "output_type": "execute_result"
    }
   ],
   "source": [
    "np.linalg.det(eye)"
   ]
  },
  {
   "cell_type": "code",
   "execution_count": 127,
   "id": "limited-alpha",
   "metadata": {},
   "outputs": [
    {
     "data": {
      "text/plain": [
       "array([ 1.  ,  3.25,  5.5 ,  7.75, 10.  ])"
      ]
     },
     "execution_count": 127,
     "metadata": {},
     "output_type": "execute_result"
    }
   ],
   "source": [
    "# Return evenly spaced numbers over a specified interval.\n",
    "np.linspace(1.0, 10.0, num=5)"
   ]
  },
  {
   "cell_type": "code",
   "execution_count": 132,
   "id": "amended-committee",
   "metadata": {},
   "outputs": [
    {
     "name": "stdout",
     "output_type": "stream",
     "text": [
      "0\n",
      "1\n",
      "2\n",
      "3\n",
      "4\n",
      "5\n",
      "6\n",
      "7\n",
      "8\n",
      "9\n"
     ]
    }
   ],
   "source": [
    "for i in range(0, 10, 1):\n",
    "    print(i)"
   ]
  },
  {
   "cell_type": "code",
   "execution_count": 138,
   "id": "introductory-august",
   "metadata": {},
   "outputs": [
    {
     "data": {
      "text/plain": [
       "0.19999999999999996"
      ]
     },
     "execution_count": 138,
     "metadata": {},
     "output_type": "execute_result"
    }
   ],
   "source": [
    "1.2 - 1.0"
   ]
  },
  {
   "cell_type": "code",
   "execution_count": 137,
   "id": "engaging-sierra",
   "metadata": {},
   "outputs": [
    {
     "data": {
      "text/plain": [
       "0.3"
      ]
     },
     "execution_count": 137,
     "metadata": {},
     "output_type": "execute_result"
    }
   ],
   "source": [
    "round(1.2 - 1.0, 2)\n",
    "round(0.2 + 0.1, 2)"
   ]
  },
  {
   "cell_type": "markdown",
   "id": "worldwide-security",
   "metadata": {},
   "source": [
    "More details about [floating point](https://docs.python.org/3/tutorial/floatingpoint.html#tut-fp-issues) in Python."
   ]
  },
  {
   "cell_type": "markdown",
   "id": "million-whole",
   "metadata": {},
   "source": [
    "### Dot Product (İç Çarpım)\n",
    "![Dot product](https://algebra1course.files.wordpress.com/2013/02/slide10.jpg)\n",
    "\n",
    "credit: https://algebra1course.files.wordpress.com/"
   ]
  },
  {
   "cell_type": "code",
   "execution_count": null,
   "id": "accurate-alcohol",
   "metadata": {},
   "outputs": [],
   "source": [
    "arr_a = np.random.randint(1, 100, size=(5, 7))\n",
    "arr_a"
   ]
  },
  {
   "cell_type": "code",
   "execution_count": null,
   "id": "wound-error",
   "metadata": {},
   "outputs": [],
   "source": [
    "arr_b = np.random.randint(1, 100, size=(5, 7))\n",
    "arr_b"
   ]
  },
  {
   "cell_type": "code",
   "execution_count": null,
   "id": "integral-theater",
   "metadata": {},
   "outputs": [],
   "source": [
    "arr_a * arr_b"
   ]
  },
  {
   "cell_type": "code",
   "execution_count": null,
   "id": "surprising-consortium",
   "metadata": {},
   "outputs": [],
   "source": [
    "(arr_a * arr_b).shape"
   ]
  },
  {
   "cell_type": "code",
   "execution_count": null,
   "id": "quick-corps",
   "metadata": {},
   "outputs": [],
   "source": [
    "arr_axb = np.dot(arr_a, arr_b)\n",
    "arr_axb"
   ]
  },
  {
   "cell_type": "code",
   "execution_count": null,
   "id": "geographic-lightning",
   "metadata": {},
   "outputs": [],
   "source": [
    "arr_a @ arr_b"
   ]
  },
  {
   "cell_type": "markdown",
   "id": "intended-soviet",
   "metadata": {},
   "source": [
    "### What now? (Şimdi ne olacak?)"
   ]
  },
  {
   "cell_type": "markdown",
   "id": "korean-veteran",
   "metadata": {},
   "source": [
    "![Advanced NumPy: Master stride tricks](https://miro.medium.com/max/1400/1*zss0Ayum0LBpN6fkzml1fw.png)\n",
    "\n",
    "Credit: [Advanced NumPy: Master stride tricks](https://towardsdatascience.com/advanced-numpy-master-stride-tricks-with-25-illustrated-exercises-923a9393ab20#12e7)"
   ]
  }
 ],
 "metadata": {
  "kernelspec": {
   "display_name": "Python 3",
   "language": "python",
   "name": "python3"
  },
  "language_info": {
   "codemirror_mode": {
    "name": "ipython",
    "version": 3
   },
   "file_extension": ".py",
   "mimetype": "text/x-python",
   "name": "python",
   "nbconvert_exporter": "python",
   "pygments_lexer": "ipython3",
   "version": "3.8.6"
  }
 },
 "nbformat": 4,
 "nbformat_minor": 5
}
